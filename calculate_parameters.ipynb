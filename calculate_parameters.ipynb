{
 "cells": [
  {
   "cell_type": "code",
   "execution_count": 2,
   "metadata": {},
   "outputs": [],
   "source": [
    "using Luna"
   ]
  },
  {
   "cell_type": "code",
   "execution_count": 9,
   "metadata": {},
   "outputs": [
    {
     "data": {
      "text/plain": [
       "(3.7181736576595142e25, 1.0005843204424483, 3.4199449874306914e-23)"
      ]
     },
     "metadata": {},
     "output_type": "display_data"
    }
   ],
   "source": [
    "# MPC PARAMETERS\n",
    "Nrt = 15                        # number of round trips\n",
    "Npass = 2*Nrt                # number of passes\n",
    "\n",
    "R = 200e-3                      # mirror radius of curvature [m]\n",
    "k = Nrt-2                       # for k->Nrt MPC operation is closest to the stability edge and wm is maximized, reducing mirror damage \n",
    "L = R*(1-cos(pi*k/Nrt))         # MPC cell length [m] (see Anne-Lise Viotti, Multi-pass cells for post-compression of ultrashort laser pulses, 2022, https://doi.org/10.1364/OPTICA.449225)\n",
    "C = L/R\n",
    "\n",
    "mtype = :spherical              # mirror type, either :spherical or :parabolic\n",
    "ϕm1 = [0,0,0,0]                 # mirror 1 dispersion expressed as a taylor expansion\n",
    "ϕm2 = [0,0,0,0]                 # mirror 2 dispersion expressed as a taylor expansion\n",
    "\n",
    "pres = 1.5 #1.5 #10e-10 #1.5    # gas pressure [bar]\n",
    "gas = :Kr                       # gas type\n",
    "ion = true                     # if true: enable ionisation response, if false: disable ionisation \n",
    "ion_model=\"PPT\"                 # set to \"ADK\" or \"PPT\"; \"ADK\" is less accurate at low intensities but faster; \"PPT\" may crash at very high intensities\n",
    "\n",
    "# PULSE PARAMETERS\n",
    "λ0 = 1030e-9        # central wavelength [m]\n",
    "τ = 150e-15         # pulse duration [s]; ignored if FROG spectrum is used\n",
    "E_pulse = 250e-6    # pulse energy [J]\n",
    "#w0 = 150e-6         # beam waist at focus [m]      # instead calculated later\n",
    "M2 = 1.0           # beam quality                 # not yet implemented; how would you do that?\n",
    "N0, n0, n2 = Tools.getN0n0n2(PhysData.wlfreq(λ0), gas; P=pres, T=PhysData.roomtemp)        # gas number density, linear and nonlinear refractive index [m^2/W]"
   ]
  },
  {
   "cell_type": "code",
   "execution_count": 5,
   "metadata": {},
   "outputs": [
    {
     "name": "stdout",
     "output_type": "stream",
     "text": [
      "0.38270909152852023\n",
      "1.913545457642601\n"
     ]
    }
   ],
   "source": [
    "println(L)\n",
    "println(C)"
   ]
  },
  {
   "cell_type": "code",
   "execution_count": 4,
   "metadata": {},
   "outputs": [],
   "source": [
    "# # MPC PARAMETERS\n",
    "# Nrt = 15                        # number of round trips\n",
    "# Npass = 2 #2*Nrt                # number of passes\n",
    "\n",
    "# R = 1                    # mirror radius of curvature [m]\n",
    "# k = Nrt-2                       # for k->Nrt MPC operation is closest to the stability edge and wm is maximized, reducing mirror damage \n",
    "# L = 1.995 #R*(1-cos(pi*k/Nrt))         # MPC cell length [m] (see Anne-Lise Viotti, Multi-pass cells for post-compression of ultrashort laser pulses, 2022, https://doi.org/10.1364/OPTICA.449225)\n",
    "# C = L/R\n",
    "\n",
    "# mtype = :spherical              # mirror type, either :spherical or :parabolic\n",
    "# ϕm1 = [0,0,0,0]                 # mirror 1 dispersion expressed as a taylor expansion\n",
    "# ϕm2 = [0,0,0,0]                 # mirror 2 dispersion expressed as a taylor expansion\n",
    "\n",
    "# pres = 1 #1.5 #10e-10 #1.5    # gas pressure [bar]\n",
    "# gas = :Ar                       # gas type\n",
    "# ion = false                     # if true: enable ionisation response, if false: disable ionisation \n",
    "# ion_model=\"PPT\"                 # set to \"ADK\" or \"PPT\"; \"ADK\" is less accurate at low intensities but faster; \"PPT\" may crash at very high intensities\n",
    "\n",
    "# # PULSE PARAMETERS\n",
    "# λ0 = 1030e-9        # central wavelength [m]\n",
    "# τ = 700e-15         # pulse duration [s]; ignored if FROG spectrum is used\n",
    "# E_pulse = 7e-3    # pulse energy [J]\n",
    "# #w0 = 150e-6         # beam waist at focus [m]      # instead calculated later\n",
    "# M2 = 1.0           # beam quality                 # not yet implemented; how would you do that?\n",
    "# N0, n0, n2 = Tools.getN0n0n2(PhysData.wlfreq(λ0), gas; P=pres, T=PhysData.roomtemp)        # gas number density, linear and nonlinear refractive index [m^2/W]"
   ]
  },
  {
   "cell_type": "code",
   "execution_count": 10,
   "metadata": {},
   "outputs": [
    {
     "data": {
      "text/plain": [
       "0.761790828499522"
      ]
     },
     "metadata": {},
     "output_type": "display_data"
    }
   ],
   "source": [
    "# n2 = 0.97e-23\n",
    "P_peak = 0.94*E_pulse/τ             # peak power; 0.94 for gaussian pulses (see https://www.rp-photonics.com/peak_power.html)\n",
    "P_crit = 3.77*λ0^2/(8*pi*n0*n2)     # critical power; above which beam collapses\n",
    "σ = 1-P_peak/(sqrt(2)*P_crit)       # nonlinear correction factor that accounts for self focusing/Kerr lensing"
   ]
  },
  {
   "cell_type": "code",
   "execution_count": 15,
   "metadata": {},
   "outputs": [
    {
     "name": "stdout",
     "output_type": "stream",
     "text": [
      "22.679444659135275\n"
     ]
    }
   ],
   "source": [
    "b = 7*pi^2*n2*P_peak*k/(2*λ0^2)\n",
    "println(b)"
   ]
  },
  {
   "cell_type": "code",
   "execution_count": 13,
   "metadata": {},
   "outputs": [
    {
     "name": "stdout",
     "output_type": "stream",
     "text": [
      "Approximate Δλ_out: 3.855505592052997e-7\n",
      "Accurate Δλ_out: 3.855768179715341e-7\n"
     ]
    }
   ],
   "source": [
    "# Function to compute output wavelength bandwidth from input bandwidth and frequency-domain broadening factor\n",
    "# Inputs:\n",
    "#   b_omega: Broadening factor in frequency domain (Δω_out / Δω_in)\n",
    "#   lambda0: Central wavelength [m]\n",
    "#   delta_lambda_in: Input wavelength bandwidth [m]\n",
    "#   accurate: If true, use exact calculation (better for large bandwidth)\n",
    "# Output:\n",
    "#   delta_lambda_out: Output wavelength bandwidth [m]\n",
    "\n",
    "function compute_delta_lambda_out(b_omega, lambda0, delta_lambda_in; accurate=false)\n",
    "    c = 299792458.0  # speed of light [m/s]\n",
    "\n",
    "    if !accurate\n",
    "        # Narrowband approximation\n",
    "        return b_omega * delta_lambda_in\n",
    "    else\n",
    "        # Exact method assuming symmetric spectrum around lambda0\n",
    "        lambda_min_in = lambda0 - delta_lambda_in / 2\n",
    "        lambda_max_in = lambda0 + delta_lambda_in / 2\n",
    "\n",
    "        delta_omega_in = 2 * pi * c * (1 / lambda_min_in - 1 / lambda_max_in)\n",
    "        delta_omega_out = b_omega * delta_omega_in\n",
    "\n",
    "        # Convert back to wavelength bandwidth assuming symmetric spectrum\n",
    "        # Use derivative-based approximation for output bandwidth\n",
    "        delta_lambda_out = (lambda0^2 / (2 * pi * c)) * delta_omega_out\n",
    "        return delta_lambda_out\n",
    "    end\n",
    "end\n",
    "\n",
    "# Example usage:\n",
    "b_omega = b                      # Example broadening factor\n",
    "lambda0 = 1030e-9                  # 1030 nm\n",
    "delta_lambda_in = 17e-9            # 30 nm input bandwidth\n",
    "\n",
    "println(\"Approximate Δλ_out: \", compute_delta_lambda_out(b_omega, lambda0, delta_lambda_in))\n",
    "println(\"Accurate Δλ_out: \", compute_delta_lambda_out(b_omega, lambda0, delta_lambda_in; accurate=true))"
   ]
  },
  {
   "cell_type": "code",
   "execution_count": 19,
   "metadata": {},
   "outputs": [
    {
     "name": "stdout",
     "output_type": "stream",
     "text": [
      "107.88455161259178\n",
      "115.47828514537358\n",
      "555.4198741358597\n"
     ]
    }
   ],
   "source": [
    "w0_NL = sqrt(λ0*L/(2*pi)*sqrt(σ*(2*R/L-1)))   # beam waist in the focus in nonlinear regime\n",
    "w0_L = sqrt(λ0*L/(2*pi) * sqrt(2*R/L-1))       # beam waist in the focus in linear regime  \n",
    "wm = w0_L*sqrt(2*R/(2*R-L))                     # beam waist on the mirror in linear regime\n",
    "\n",
    "println(w0_NL*1e6)\n",
    "println(w0_L*1e6)\n",
    "println(wm*1e6)"
   ]
  },
  {
   "cell_type": "code",
   "execution_count": 25,
   "metadata": {},
   "outputs": [
    {
     "name": "stdout",
     "output_type": "stream",
     "text": [
      "518.8960331584037\n",
      "-0.2001168640884897\n"
     ]
    }
   ],
   "source": [
    "# Mode-matching for the beam\n",
    "M_mirr = [1 0;-2*R 1];\n",
    "M_prop2 = [1 -L/2;0 1];\n",
    "M_prop1 = [1 1;0 1];\n",
    "Mtot = M_prop2#*M_mirr*M_prop1;\n",
    "A = Mtot[1,1];\n",
    "B = Mtot[1,2];\n",
    "C = Mtot[2,1];\n",
    "D = Mtot[2,2];\n",
    "\n",
    "q_0NL = 1/(0 + 1im*sqrt(σ)*λ0/(pi*w0_NL^2))\n",
    "q_mNL = (A*q_0NL + B)/(C*q_0NL + D)\n",
    "#q_mNL = (D*q_0NL - B)/(-C*q_0NL + A)\n",
    "\n",
    "wm = sqrt(sqrt(σ)*λ0/pi * 1/imag(1/q_mNL))\n",
    "Rm = n0/real(1/q_mNL)\n",
    "println(wm*1e6)\n",
    "println(Rm)"
   ]
  },
  {
   "cell_type": "code",
   "execution_count": 8,
   "metadata": {},
   "outputs": [
    {
     "data": {
      "text/plain": [
       "0.2"
      ]
     },
     "metadata": {},
     "output_type": "display_data"
    }
   ],
   "source": [
    "R"
   ]
  },
  {
   "cell_type": "code",
   "execution_count": 26,
   "metadata": {},
   "outputs": [
    {
     "name": "stdout",
     "output_type": "stream",
     "text": [
      "2667.2374429529054\n",
      "Inf\n"
     ]
    }
   ],
   "source": [
    "M_mirr = [1 0;-2*R 1];\n",
    "M_prop2 = [1 -L/2;0 1];\n",
    "M_prop1 = [1 1;0 1];\n",
    "Mtot = M_prop1*M_mirr*M_prop2;\n",
    "A = Mtot[1,1];\n",
    "B = Mtot[1,2];\n",
    "C = Mtot[2,1];\n",
    "D = Mtot[2,2];\n",
    "\n",
    "q_m = 1/(n0/-Rm + 1im*λ0/(pi*wm^2))\n",
    "\n",
    "q_0L = (A*q_m + B)/(C*q_m + D)\n",
    "w0_L = sqrt(λ0/(pi*imag(1/q_0L)))\n",
    "R0 = n0/real(1/q_0NL)\n",
    "println(w0_L*1e6)\n",
    "println(R0)"
   ]
  },
  {
   "cell_type": "code",
   "execution_count": 10,
   "metadata": {},
   "outputs": [
    {
     "name": "stdout",
     "output_type": "stream",
     "text": [
      "0.38270909152852023\n",
      "0.1\n"
     ]
    },
    {
     "data": {
      "text/plain": [
       "126.5"
      ]
     },
     "metadata": {},
     "output_type": "display_data"
    }
   ],
   "source": [
    "println(L)\n",
    "println(R/2)\n",
    "253/2"
   ]
  },
  {
   "cell_type": "markdown",
   "metadata": {},
   "source": [
    "### Calculate number of samples"
   ]
  },
  {
   "cell_type": "code",
   "execution_count": 11,
   "metadata": {},
   "outputs": [
    {
     "name": "stderr",
     "output_type": "stream",
     "text": [
      "┌ Info: Freq limits 0.20 - 0.50 PHz\n",
      "└ @ Luna.Grid C:\\Users\\muelderk\\.julia\\packages\\Luna\\7FAkO\\src\\Grid.jl:40\n",
      "┌ Info: Samples needed: 449.69, samples: 512, δt = 333.56 as\n",
      "└ @ Luna.Grid C:\\Users\\muelderk\\.julia\\packages\\Luna\\7FAkO\\src\\Grid.jl:44\n",
      "┌ Info: Requested time window: 150.0 fs, actual time window: 170.8 fs\n",
      "└ @ Luna.Grid C:\\Users\\muelderk\\.julia\\packages\\Luna\\7FAkO\\src\\Grid.jl:46\n"
     ]
    },
    {
     "name": "stdout",
     "output_type": "stream",
     "text": [
      "factor = 1\n",
      "Nt = 256\n",
      "trange = 170.11768855105754 fs\n",
      "Nω = 129\n",
      "ωrange = 4.709128918272134 PHz\n",
      "frange = 0.7494811450000001 PHz\n",
      "flims = 0.1998616386666667-0.4996540966666667 PHz\n",
      "\n",
      "\n",
      "factor = 2\n",
      "Nt = 512\n",
      "trange = 340.9025052925114 fs\n",
      "Nω = 257\n",
      "ωrange = 4.709128918272134 PHz\n",
      "frange = 0.7494811450000001 PHz\n",
      "flims = 0.1998616386666667-0.4996540966666667 PHz\n",
      "\n",
      "\n",
      "factor = 3\n",
      "Nt = 1024\n",
      "trange = 682.472138775419 fs\n",
      "Nω = 513\n",
      "ωrange = 4.709128918272134 PHz\n",
      "frange = 0.7494811450000001 PHz\n",
      "flims = 0.1998616386666667-0.4996540966666667 PHz\n",
      "\n",
      "\n",
      "factor = 5\n",
      "Nt = 2048\n",
      "trange = 1365.6114057412344 fs\n",
      "Nω = 1025\n",
      "ωrange = 4.709128918272134 PHz\n",
      "frange = 0.7494811450000001 PHz\n",
      "flims = 0.1998616386666667-0.4996540966666667 PHz\n",
      "\n",
      "\n",
      "factor = 10\n",
      "Nt = 4096\n",
      "trange = 2731.8899396728652 fs\n",
      "Nω = 2049\n",
      "ωrange = 4.709128918272134 PHz\n",
      "frange = 0.7494811450000001 PHz\n",
      "flims = 0.1998616386666667-0.4996540966666667 PHz\n",
      "\n",
      "\n",
      "factor = 15\n",
      "Nt = 4096\n",
      "trange = 2731.8899396728652 fs\n",
      "Nω = 2049\n",
      "ωrange = 4.709128918272134 PHz\n",
      "frange = 0.7494811450000001 PHz\n",
      "flims = 0.1998616386666667-0.4996540966666667 PHz\n",
      "\n",
      "\n",
      "factor = 20\n",
      "Nt = 8192\n",
      "trange = 5464.447007536127 fs\n",
      "Nω = 4097\n",
      "ωrange = 4.709128918272134 PHz\n",
      "frange = 0.7494811450000001 PHz\n",
      "flims = 0.1998616386666667-0.4996540966666667 PHz\n",
      "\n",
      "\n",
      "factor = 30\n",
      "Nt = 8192\n",
      "trange = 5464.447007536127 fs\n",
      "Nω = 4097\n",
      "ωrange = 4.709128918272134 PHz\n",
      "frange = 0.7494811450000001 PHz\n",
      "flims = 0.1998616386666667-0.4996540966666667 PHz\n",
      "\n",
      "\n",
      "factor = 40\n",
      "Nt = 16384\n",
      "trange = 10929.56114326265 fs\n",
      "Nω = 8193\n",
      "ωrange = 4.709128918272134 PHz\n",
      "frange = 0.7494811450000001 PHz\n",
      "flims = 0.1998616386666667-0.4996540966666667 PHz\n",
      "\n",
      "\n",
      "factor = 50\n",
      "Nt = 16384\n",
      "trange = 10929.56114326265 fs\n",
      "Nω = 8193\n",
      "ωrange = 4.709128918272134 PHz\n",
      "frange = 0.7494811450000001 PHz\n",
      "flims = 0.1998616386666667-0.4996540966666667 PHz\n",
      "\n",
      "\n"
     ]
    },
    {
     "name": "stderr",
     "output_type": "stream",
     "text": [
      "┌ Info: Grid: samples 256 / 512, ωmax 4.71e+15 / 9.42e+15\n",
      "└ @ Luna.Grid C:\\Users\\muelderk\\.julia\\packages\\Luna\\7FAkO\\src\\Grid.jl:78\n",
      "┌ Info: Freq limits 0.20 - 0.50 PHz\n",
      "└ @ Luna.Grid C:\\Users\\muelderk\\.julia\\packages\\Luna\\7FAkO\\src\\Grid.jl:40\n",
      "┌ Info: Samples needed: 899.38, samples: 1024, δt = 333.56 as\n",
      "└ @ Luna.Grid C:\\Users\\muelderk\\.julia\\packages\\Luna\\7FAkO\\src\\Grid.jl:44\n",
      "┌ Info: Requested time window: 300.0 fs, actual time window: 341.6 fs\n",
      "└ @ Luna.Grid C:\\Users\\muelderk\\.julia\\packages\\Luna\\7FAkO\\src\\Grid.jl:46\n",
      "┌ Info: Grid: samples 512 / 1024, ωmax 4.71e+15 / 9.42e+15\n",
      "└ @ Luna.Grid C:\\Users\\muelderk\\.julia\\packages\\Luna\\7FAkO\\src\\Grid.jl:78\n",
      "┌ Info: Freq limits 0.20 - 0.50 PHz\n",
      "└ @ Luna.Grid C:\\Users\\muelderk\\.julia\\packages\\Luna\\7FAkO\\src\\Grid.jl:40\n",
      "┌ Info: Samples needed: 1349.07, samples: 2048, δt = 333.56 as\n",
      "└ @ Luna.Grid C:\\Users\\muelderk\\.julia\\packages\\Luna\\7FAkO\\src\\Grid.jl:44\n",
      "┌ Info: Requested time window: 450.0 fs, actual time window: 683.1 fs\n",
      "└ @ Luna.Grid C:\\Users\\muelderk\\.julia\\packages\\Luna\\7FAkO\\src\\Grid.jl:46\n",
      "┌ Info: Grid: samples 1024 / 2048, ωmax 4.71e+15 / 9.42e+15\n",
      "└ @ Luna.Grid C:\\Users\\muelderk\\.julia\\packages\\Luna\\7FAkO\\src\\Grid.jl:78\n",
      "┌ Info: Freq limits 0.20 - 0.50 PHz\n",
      "└ @ Luna.Grid C:\\Users\\muelderk\\.julia\\packages\\Luna\\7FAkO\\src\\Grid.jl:40\n",
      "┌ Info: Samples needed: 2248.44, samples: 4096, δt = 333.56 as\n",
      "└ @ Luna.Grid C:\\Users\\muelderk\\.julia\\packages\\Luna\\7FAkO\\src\\Grid.jl:44\n",
      "┌ Info: Requested time window: 750.0 fs, actual time window: 1366.3 fs\n",
      "└ @ Luna.Grid C:\\Users\\muelderk\\.julia\\packages\\Luna\\7FAkO\\src\\Grid.jl:46\n",
      "┌ Info: Grid: samples 2048 / 4096, ωmax 4.71e+15 / 9.42e+15\n",
      "└ @ Luna.Grid C:\\Users\\muelderk\\.julia\\packages\\Luna\\7FAkO\\src\\Grid.jl:78\n",
      "┌ Info: Freq limits 0.20 - 0.50 PHz\n",
      "└ @ Luna.Grid C:\\Users\\muelderk\\.julia\\packages\\Luna\\7FAkO\\src\\Grid.jl:40\n",
      "┌ Info: Samples needed: 4496.89, samples: 8192, δt = 333.56 as\n",
      "└ @ Luna.Grid C:\\Users\\muelderk\\.julia\\packages\\Luna\\7FAkO\\src\\Grid.jl:44\n",
      "┌ Info: Requested time window: 1500.0 fs, actual time window: 2732.6 fs\n",
      "└ @ Luna.Grid C:\\Users\\muelderk\\.julia\\packages\\Luna\\7FAkO\\src\\Grid.jl:46\n",
      "┌ Info: Grid: samples 4096 / 8192, ωmax 4.71e+15 / 9.42e+15\n",
      "└ @ Luna.Grid C:\\Users\\muelderk\\.julia\\packages\\Luna\\7FAkO\\src\\Grid.jl:78\n",
      "┌ Info: Freq limits 0.20 - 0.50 PHz\n",
      "└ @ Luna.Grid C:\\Users\\muelderk\\.julia\\packages\\Luna\\7FAkO\\src\\Grid.jl:40\n",
      "┌ Info: Samples needed: 6745.33, samples: 8192, δt = 333.56 as\n",
      "└ @ Luna.Grid C:\\Users\\muelderk\\.julia\\packages\\Luna\\7FAkO\\src\\Grid.jl:44\n",
      "┌ Info: Requested time window: 2250.0 fs, actual time window: 2732.6 fs\n",
      "└ @ Luna.Grid C:\\Users\\muelderk\\.julia\\packages\\Luna\\7FAkO\\src\\Grid.jl:46\n",
      "┌ Info: Grid: samples 4096 / 8192, ωmax 4.71e+15 / 9.42e+15\n",
      "└ @ Luna.Grid C:\\Users\\muelderk\\.julia\\packages\\Luna\\7FAkO\\src\\Grid.jl:78\n",
      "┌ Info: Freq limits 0.20 - 0.50 PHz\n",
      "└ @ Luna.Grid C:\\Users\\muelderk\\.julia\\packages\\Luna\\7FAkO\\src\\Grid.jl:40\n",
      "┌ Info: Samples needed: 8993.77, samples: 16384, δt = 333.56 as\n",
      "└ @ Luna.Grid C:\\Users\\muelderk\\.julia\\packages\\Luna\\7FAkO\\src\\Grid.jl:44\n",
      "┌ Info: Requested time window: 3000.0 fs, actual time window: 5465.1 fs\n",
      "└ @ Luna.Grid C:\\Users\\muelderk\\.julia\\packages\\Luna\\7FAkO\\src\\Grid.jl:46\n",
      "┌ Info: Grid: samples 8192 / 16384, ωmax 4.71e+15 / 9.42e+15\n",
      "└ @ Luna.Grid C:\\Users\\muelderk\\.julia\\packages\\Luna\\7FAkO\\src\\Grid.jl:78\n",
      "┌ Info: Freq limits 0.20 - 0.50 PHz\n",
      "└ @ Luna.Grid C:\\Users\\muelderk\\.julia\\packages\\Luna\\7FAkO\\src\\Grid.jl:40\n",
      "┌ Info: Samples needed: 13490.66, samples: 16384, δt = 333.56 as\n",
      "└ @ Luna.Grid C:\\Users\\muelderk\\.julia\\packages\\Luna\\7FAkO\\src\\Grid.jl:44\n",
      "┌ Info: Requested time window: 4500.0 fs, actual time window: 5465.1 fs\n",
      "└ @ Luna.Grid C:\\Users\\muelderk\\.julia\\packages\\Luna\\7FAkO\\src\\Grid.jl:46\n",
      "┌ Info: Grid: samples 8192 / 16384, ωmax 4.71e+15 / 9.42e+15\n",
      "└ @ Luna.Grid C:\\Users\\muelderk\\.julia\\packages\\Luna\\7FAkO\\src\\Grid.jl:78\n",
      "┌ Info: Freq limits 0.20 - 0.50 PHz\n",
      "└ @ Luna.Grid C:\\Users\\muelderk\\.julia\\packages\\Luna\\7FAkO\\src\\Grid.jl:40\n",
      "┌ Info: Samples needed: 17987.55, samples: 32768, δt = 333.56 as\n",
      "└ @ Luna.Grid C:\\Users\\muelderk\\.julia\\packages\\Luna\\7FAkO\\src\\Grid.jl:44\n",
      "┌ Info: Requested time window: 6000.0 fs, actual time window: 10930.2 fs\n",
      "└ @ Luna.Grid C:\\Users\\muelderk\\.julia\\packages\\Luna\\7FAkO\\src\\Grid.jl:46\n",
      "┌ Info: Grid: samples 16384 / 32768, ωmax 4.71e+15 / 9.42e+15\n",
      "└ @ Luna.Grid C:\\Users\\muelderk\\.julia\\packages\\Luna\\7FAkO\\src\\Grid.jl:78\n",
      "┌ Info: Freq limits 0.20 - 0.50 PHz\n",
      "└ @ Luna.Grid C:\\Users\\muelderk\\.julia\\packages\\Luna\\7FAkO\\src\\Grid.jl:40\n",
      "┌ Info: Samples needed: 22484.43, samples: 32768, δt = 333.56 as\n",
      "└ @ Luna.Grid C:\\Users\\muelderk\\.julia\\packages\\Luna\\7FAkO\\src\\Grid.jl:44\n",
      "┌ Info: Requested time window: 7500.0 fs, actual time window: 10930.2 fs\n",
      "└ @ Luna.Grid C:\\Users\\muelderk\\.julia\\packages\\Luna\\7FAkO\\src\\Grid.jl:46\n",
      "┌ Info: Grid: samples 16384 / 32768, ωmax 4.71e+15 / 9.42e+15\n",
      "└ @ Luna.Grid C:\\Users\\muelderk\\.julia\\packages\\Luna\\7FAkO\\src\\Grid.jl:78\n"
     ]
    }
   ],
   "source": [
    "λ0 = 1030e-9\n",
    "τ = 150e-15\n",
    "λlims = (600e-9, 1500e-9)\n",
    "#trange = 15*τ\n",
    "L = 300e-3\n",
    "\n",
    "#grid = Grid.RealGrid(L, λ0, λlims, trange)\n",
    "\n",
    "factors = [1, 2, 3, 5, 10, 15, 20, 30, 40, 50] #1:5:50\n",
    "\n",
    "for factor in factors\n",
    "    trange = factor .* τ\n",
    "    grid = Grid.RealGrid(L, λ0, λlims, trange)\n",
    "    println(\"factor = \", factor)\n",
    "    println(\"Nt = \", length(grid.t))\n",
    "    println(\"trange = \", (grid.t[end]-grid.t[1])*1e15, \" fs\")\n",
    "    println(\"Nω = \", length(grid.ω))\n",
    "    println(\"ωrange = \", (grid.ω[end]-grid.ω[1])*1e-15, \" PHz\")\n",
    "    println(\"frange = \", (grid.ω[end]-grid.ω[1])*1e-15/2pi, \" PHz\")\n",
    "    println(\"flims = \", PhysData.wlfreq(1500e-9)*1e-15./2pi , \"-\", PhysData.wlfreq(600e-9)*1e-15./2pi, \" PHz\")\n",
    "    println(\"\\n\")\n",
    "end"
   ]
  },
  {
   "cell_type": "code",
   "execution_count": 12,
   "metadata": {},
   "outputs": [
    {
     "name": "stdout",
     "output_type": "stream",
     "text": [
      "n2 = 3.4199449874306914e-23\n"
     ]
    }
   ],
   "source": [
    "λ0 = 1030e-9\n",
    "pres = 1.5 #600e-3 #1.5 #10e-10 #1.5               # gas pressure [bar]\n",
    "gas = :Kr #:Ar #:Kr           # gas type\n",
    "N0, n0, n2 = Tools.getN0n0n2(PhysData.wlfreq(λ0), gas; P=pres, T=PhysData.roomtemp)        # gas number density, linear and nonlinear refractive index [m^2/W]\n",
    "println(\"n2 = \", n2)"
   ]
  },
  {
   "cell_type": "markdown",
   "metadata": {},
   "source": [
    "### Calculate MPC parameters"
   ]
  },
  {
   "cell_type": "code",
   "execution_count": 13,
   "metadata": {},
   "outputs": [],
   "source": [
    "# Creating an excel sheet for the L/R (also called C) values\n",
    "\n",
    "# using XLSX\n",
    "\n",
    "# # Create a dictionary to hold the calculated C values for each N\n",
    "# C_values = Dict{Int, Vector{Float64}}()\n",
    "\n",
    "# # Loop over each N from 1 to 30\n",
    "# for N in 1:30\n",
    "#     C_values[N] = [1 - cos(pi * k / N) for k in 1:(N-1)]\n",
    "# end\n",
    "\n",
    "# # Create an Excel workbook and add a worksheet\n",
    "# XLSX.openxlsx(\"C_values.xlsx\", mode = \"w\") do xf\n",
    "#     sheet = xf[1]  # Access the first (and default) sheet\n",
    "#     # Write headers for columns where k varies\n",
    "#     for k in 1:29\n",
    "#         sheet[1, k + 1] = \"k=$k\"\n",
    "#     end\n",
    "\n",
    "#     # Write the calculated values into the worksheet\n",
    "#     row = 2\n",
    "#     for N in 1:30\n",
    "#         # Write the value of N in the first column\n",
    "#         sheet[row, 1] = N\n",
    "#         # Write the C values for this particular N starting from the second column\n",
    "#         for (index, value) in enumerate(C_values[N])\n",
    "#             sheet[row, index + 1] = value\n",
    "#         end\n",
    "#         row += 1\n",
    "#     end\n",
    "# end\n",
    "\n",
    "# println(\"Excel sheet with C values has been created as 'C_values.xlsx'.\")"
   ]
  },
  {
   "cell_type": "code",
   "execution_count": 26,
   "metadata": {},
   "outputs": [
    {
     "name": "stdout",
     "output_type": "stream",
     "text": [
      "R = 0.2\n",
      "k\tL\tL/R\n",
      "1\t0.004370479853238862\t0.02185239926619431\n",
      "2\t0.017290908471479828\t0.08645454235739913\n",
      "3\t0.03819660112501051\t0.19098300562505255\n",
      "4\t0.06617387872822836\t0.33086939364114176\n",
      "5\t0.09999999999999998\t0.4999999999999999\n",
      "6\t0.1381966011250105\t0.6909830056250524\n",
      "7\t0.17909430734646933\t0.8954715367323466\n",
      "8\t0.22090569265353066\t1.1045284632676533\n",
      "9\t0.2618033988749895\t1.3090169943749475\n",
      "10\t0.3\t1.4999999999999998\n",
      "11\t0.3338261212717716\t1.6691306063588578\n",
      "12\t0.3618033988749895\t1.8090169943749475\n",
      "13\t0.38270909152852023\t1.913545457642601\n",
      "14\t0.39562952014676117\t1.9781476007338057\n"
     ]
    }
   ],
   "source": [
    "λ0 = 1030e-9\n",
    "\n",
    "Nrt = 15 #46/2 #5 #45/2 #15\n",
    "k = Nrt-1\n",
    "R = 200e-3 #1.5 #300e-3 #1.5 #200e-3 \n",
    "\n",
    "println(\"R = \", R)\n",
    "\n",
    "println(\"k\\tL\\tL/R\")\n",
    "for k in 1:Nrt-1\n",
    "    L = R*(1-cos(pi*k/Nrt))\n",
    "    C = L/R\n",
    "    println(\"$k\\t$L\\t$C\")\n",
    "end"
   ]
  },
  {
   "cell_type": "code",
   "execution_count": 32,
   "metadata": {},
   "outputs": [
    {
     "data": {
      "text/plain": [
       "0.00011547828514537356"
      ]
     },
     "metadata": {},
     "output_type": "display_data"
    }
   ],
   "source": [
    "C = 1.913545457642601\n",
    "L = 0.38270909152852023\t\n",
    "w0 = sqrt(R*λ0/(2*pi) * sqrt(C*(2-C)))"
   ]
  },
  {
   "cell_type": "code",
   "execution_count": 33,
   "metadata": {},
   "outputs": [
    {
     "data": {
      "text/plain": [
       "0.040673664307579994"
      ]
     },
     "metadata": {},
     "output_type": "display_data"
    }
   ],
   "source": [
    "zr = pi*w0^2/λ0"
   ]
  },
  {
   "cell_type": "code",
   "execution_count": 36,
   "metadata": {},
   "outputs": [
    {
     "data": {
      "text/plain": [
       "0.40391110743428205"
      ]
     },
     "metadata": {},
     "output_type": "display_data"
    }
   ],
   "source": [
    "Rz = L/2*(1+(zr/(L/2)^2))"
   ]
  },
  {
   "cell_type": "code",
   "execution_count": 21,
   "metadata": {},
   "outputs": [
    {
     "data": {
      "text/plain": [
       "(3.7181736576595142e25, 1.0005843204424483, 3.4199449874306914e-23)"
      ]
     },
     "metadata": {},
     "output_type": "display_data"
    }
   ],
   "source": [
    "N0, n0, n2 = Tools.getN0n0n2(PhysData.wlfreq(1030e-9), :Kr; P=1.5, T=PhysData.roomtemp)"
   ]
  },
  {
   "cell_type": "code",
   "execution_count": 1,
   "metadata": {},
   "outputs": [
    {
     "data": {
      "text/plain": [
       "0.04558557115307221"
      ]
     },
     "metadata": {},
     "output_type": "display_data"
    }
   ],
   "source": [
    "k=4\n",
    "R = 300e-3\n",
    "Nrt = 45/2\n",
    "L = R*(1-cos(pi*k/Nrt))"
   ]
  },
  {
   "cell_type": "code",
   "execution_count": 2,
   "metadata": {},
   "outputs": [
    {
     "data": {
      "text/plain": [
       "1.836666666666667"
      ]
     },
     "metadata": {},
     "output_type": "display_data"
    }
   ],
   "source": [
    "C = 551e-3/R"
   ]
  },
  {
   "cell_type": "code",
   "execution_count": 84,
   "metadata": {},
   "outputs": [
    {
     "data": {
      "text/plain": [
       "0.15195190384357404"
      ]
     },
     "metadata": {},
     "output_type": "display_data"
    }
   ],
   "source": [
    "L/R"
   ]
  },
  {
   "cell_type": "code",
   "execution_count": 58,
   "metadata": {},
   "outputs": [
    {
     "data": {
      "text/plain": [
       "1.8995"
      ]
     },
     "metadata": {},
     "output_type": "display_data"
    }
   ],
   "source": [
    "Nrt = 15 #(45-1)/2\n",
    "R = 200e-3 #1.5 #300e-3\n",
    "k = Nrt-2\n",
    "L = 379.9e-3 #R*(1-cos(pi*k/Nrt)) #1.99*R #551e-3 #1.99*R #L/R\n",
    "C = L/R"
   ]
  },
  {
   "cell_type": "code",
   "execution_count": 11,
   "metadata": {},
   "outputs": [
    {
     "data": {
      "text/plain": [
       "1.99"
      ]
     },
     "metadata": {},
     "output_type": "display_data"
    }
   ],
   "source": [
    "λ0 = 1030e-9\n",
    "L = 1.99*1.5\n",
    "R = 1.5\n",
    "C = L/R"
   ]
  },
  {
   "cell_type": "code",
   "execution_count": 12,
   "metadata": {},
   "outputs": [
    {
     "data": {
      "text/plain": [
       "0.3724925340125196"
      ]
     },
     "metadata": {},
     "output_type": "display_data"
    }
   ],
   "source": [
    "w0 = sqrt(R*λ0/(2*pi) * sqrt(C*(2-C)))\n",
    "2*w0*1e3\n"
   ]
  },
  {
   "cell_type": "code",
   "execution_count": 13,
   "metadata": {},
   "outputs": [
    {
     "data": {
      "text/plain": [
       "5.267839934832264e6"
      ]
     },
     "metadata": {},
     "output_type": "display_data"
    }
   ],
   "source": [
    "wm = sqrt(R*λ0/pi * sqrt(C/(2-C)))*1e6\n",
    "2*wm*1e3\n"
   ]
  },
  {
   "cell_type": "code",
   "execution_count": 66,
   "metadata": {},
   "outputs": [
    {
     "data": {
      "text/plain": [
       "791.305828936984"
      ]
     },
     "metadata": {},
     "output_type": "display_data"
    }
   ],
   "source": [
    "wm = sqrt(2*R*λ0*Nrt/pi^2)\n",
    "wm*1e6"
   ]
  },
  {
   "cell_type": "code",
   "execution_count": 166,
   "metadata": {},
   "outputs": [
    {
     "data": {
      "text/plain": [
       "2.8715288728064796"
      ]
     },
     "metadata": {},
     "output_type": "display_data"
    }
   ],
   "source": [
    "5*wm"
   ]
  },
  {
   "cell_type": "code",
   "execution_count": 3,
   "metadata": {},
   "outputs": [
    {
     "data": {
      "text/plain": [
       "(3.7181736576595142e25, 1.0005843204424483, 3.4199449874306914e-23)"
      ]
     },
     "metadata": {},
     "output_type": "display_data"
    }
   ],
   "source": [
    "λ0 = 1030e-9\n",
    "gas = :Kr\n",
    "pres = 1.5\n",
    "N0, n0, n2 = Tools.getN0n0n2(PhysData.wlfreq(λ0), gas; P=pres, T=PhysData.roomtemp) "
   ]
  },
  {
   "cell_type": "code",
   "execution_count": 4,
   "metadata": {},
   "outputs": [
    {
     "data": {
      "text/plain": [
       "2.976e-23"
      ]
     },
     "metadata": {},
     "output_type": "display_data"
    }
   ],
   "source": [
    "1.984E-23*1.5"
   ]
  },
  {
   "cell_type": "markdown",
   "metadata": {},
   "source": [
    "### Calculate beam waists for linear mode matching"
   ]
  },
  {
   "cell_type": "code",
   "execution_count": 15,
   "metadata": {},
   "outputs": [
    {
     "name": "stdout",
     "output_type": "stream",
     "text": [
      "2*w0 = 165.12511261427778 um\n",
      "w0 = 82.56255630713889 um\n",
      "2*wm = 1579.714342412764 um\n",
      "wm = 789.857171206382 um\n"
     ]
    }
   ],
   "source": [
    "λ0 = 1030e-9\n",
    "Nrt = 15\n",
    "k = Nrt-1\n",
    "\n",
    "R = 200e-3 #1.5\n",
    "L = R*(1-cos(pi*k/Nrt))         # L = 290e-3 \n",
    "C = L/R     #C = 1.9906859460363304 #1.986\n",
    "\n",
    "\n",
    "w02 = R*λ0 * sqrt(C*(2-C)) / (2*pi)\n",
    "w0 = sqrt(w02)\n",
    "println(\"2*w0 = \", 2*w0.*1e6, \" um\")\n",
    "println(\"w0 = \", w0.*1e6, \" um\")\n",
    "\n",
    "wm2 = R*λ0 * sqrt(C/(2-C)) / pi\n",
    "wm = sqrt(wm2)\n",
    "\n",
    "# wm = w0*sqrt(2*R/(2*R-L))\n",
    "\n",
    "println(\"2*wm = \", 2*wm.*1e6, \" um\")\n",
    "println(\"wm = \", wm.*1e6, \" um\")"
   ]
  },
  {
   "cell_type": "markdown",
   "metadata": {},
   "source": [
    "### Calculate beam waists for nonlinear mode matching"
   ]
  },
  {
   "cell_type": "code",
   "execution_count": 3,
   "metadata": {},
   "outputs": [
    {
     "data": {
      "text/plain": [
       "0.761790828499522"
      ]
     },
     "metadata": {},
     "output_type": "display_data"
    }
   ],
   "source": [
    "# pulse parameters\n",
    "λ0 = 1030e-9        # central wavelength [m]\n",
    "τ = 150e-15         # pulse duration [s]; ignored if FROG spectrum is used\n",
    "E_pulse = 250e-6    # pulse energy [J]\n",
    "#w0 = 150e-6         # beam waist at focus [m]      # instead calculated later\n",
    "M2 = 1.0           # beam quality                 # not yet implemented; how would you do that?\n",
    "\n",
    "# MPC parameters\n",
    "Nrt = 15           # number of round trips\n",
    "Npass = 2*Nrt       # number of passes\n",
    "\n",
    "R = 200e-3          # radius of curvature [m]\n",
    "k = Nrt-2           # for k = Nrt-1 MPC operation is closest to the stability edge and wm is maximized reducing mirror damage \n",
    "#L = 380.1934e-3 #382.7090915285e-3 #395.6295201468e-3           # MPC cell length [m]\n",
    "L = R * (1-cos(pi*k/Nrt))                                       # MPC cell length [m] calculated (see ref.[2])\n",
    "C = L/R\n",
    "\n",
    "propz = -L/2         # propagation distance from the waist [m] (distance between mirror position and focal position)\n",
    "z_vals = L .* [0, 1/2, 1]     # points along the cell at which to investigate beam evolution [m]\n",
    "\n",
    "\n",
    "pres = 1.5 #10e-10 #1.5               # gas pressure [bar]\n",
    "gas = :Kr           # gas type\n",
    "N0, n0, n2 = Tools.getN0n0n2(PhysData.wlfreq(λ0), gas; P=pres, T=PhysData.roomtemp)        # gas number density, linear and nonlinear refractive index [m^2/W]\n",
    "\n",
    "P_peak = 0.94*E_pulse/τ             # peak power; 0.94 for gaussian pulses (see ref.[3])\n",
    "P_crit = 3.77*λ0^2/(8*pi*n0*n2)     # critical power; above which beam collapses\n",
    "σ = 1-P_peak/(sqrt(2)*P_crit)       # nonlinear correction factor that accounts for self focusing/Kerr lensing"
   ]
  },
  {
   "cell_type": "code",
   "execution_count": 4,
   "metadata": {},
   "outputs": [
    {
     "name": "stdout",
     "output_type": "stream",
     "text": [
      "1.5666666666666667e9\n",
      "4.650537243721119e9\n"
     ]
    }
   ],
   "source": [
    "println(P_peak)\n",
    "println(P_crit)"
   ]
  },
  {
   "cell_type": "markdown",
   "metadata": {},
   "source": [
    "### Beam waists that will mode match the gas filled MPC due to nonlinear focusing:"
   ]
  },
  {
   "cell_type": "code",
   "execution_count": 17,
   "metadata": {},
   "outputs": [
    {
     "name": "stdout",
     "output_type": "stream",
     "text": [
      "w0_NL = 107.88455161259176 um\n",
      "wz_NL = 518.8960331584038 um\n"
     ]
    }
   ],
   "source": [
    "w0_NL = sqrt(R*λ0 * sqrt(σ*C*(2-C)) /(2*pi))\n",
    "println(\"w0_NL = \", w0_NL.*1e6, \" um\")\n",
    "zr_NL = pi*w0_NL^2/λ0\n",
    "propz = -L/2\n",
    "\n",
    "wz_NL = w0_NL * sqrt(1+σ*(propz/zr_NL)^2)\n",
    "println(\"wz_NL = \", wz_NL.*1e6, \" um\")"
   ]
  },
  {
   "cell_type": "markdown",
   "metadata": {},
   "source": [
    "### Beam waist that has to be used as an input for the gaussgaussfield() function to end up with the nonlinear beam waist in the focus"
   ]
  },
  {
   "cell_type": "code",
   "execution_count": 18,
   "metadata": {},
   "outputs": [
    {
     "name": "stdout",
     "output_type": "stream",
     "text": [
      "w0_L = 124.54621284537734 um\n"
     ]
    }
   ],
   "source": [
    "propz = L/2\n",
    "\n",
    "w0_L = sqrt(wz_NL^2 - sqrt(π^2 *wz_NL^4 - 4* λ0^2 *propz^2)/π)/sqrt(2)\n",
    "# w0_L = sqrt(1+(propz/zr)^2) / wz\n",
    "println(\"w0_L = \", w0_L.*1e6, \" um\")"
   ]
  },
  {
   "cell_type": "markdown",
   "metadata": {},
   "source": [
    "# DAHER ET AL.\n"
   ]
  },
  {
   "cell_type": "markdown",
   "metadata": {},
   "source": [
    "### Calculate beam waists for nonlinear mode matching"
   ]
  },
  {
   "cell_type": "code",
   "execution_count": 3,
   "metadata": {},
   "outputs": [
    {
     "data": {
      "text/plain": [
       "0.8401948812938029"
      ]
     },
     "metadata": {},
     "output_type": "display_data"
    }
   ],
   "source": [
    "# pulse parameters\n",
    "λ0 = 1030e-9        # central wavelength [m]\n",
    "τ = 350e-15         # pulse duration [s]; ignored if FROG spectrum is used\n",
    "E_pulse = 200e-6    # pulse energy [J]\n",
    "#w0 = 150e-6         # beam waist at focus [m]      # instead calculated later\n",
    "M2 = 1.0           # beam quality                 # not yet implemented; how would you do that?\n",
    "\n",
    "# MPC parameters\n",
    "Nrt = 5           # number of round trips\n",
    "Npass = 2*Nrt       # number of passes\n",
    "\n",
    "R = 300e-3          # radius of curvature [m]\n",
    "k = Nrt-2           # for k = Nrt-1 MPC operation is closest to the stability edge and wm is maximized reducing mirror damage \n",
    "#L = 380.1934e-3 #382.7090915285e-3 #395.6295201468e-3           # MPC cell length [m]\n",
    "L = 551e-3 #R * (1-cos(pi*k/Nrt))                                       # MPC cell length [m] calculated (see ref.[2])\n",
    "C = L/R\n",
    "\n",
    "propz = -L/2         # propagation distance from the waist [m] (distance between mirror position and focal position)\n",
    "z_vals = L .* [0, 1/2, 1]     # points along the cell at which to investigate beam evolution [m]\n",
    "\n",
    "\n",
    "pres = 1.0 #10e-10 #1.5               # gas pressure [bar]\n",
    "gas = :Xe           # gas type\n",
    "N0, n0, n2 = Tools.getN0n0n2(PhysData.wlfreq(λ0), gas; P=pres, T=PhysData.roomtemp)        # gas number density, linear and nonlinear refractive index [m^2/W]\n",
    "\n",
    "P_peak = 0.94*E_pulse/τ             # peak power; 0.94 for gaussian pulses (see ref.[3])\n",
    "P_crit = 3.77*λ0^2/(8*pi*n0*n2)     # critical power; above which beam collapses\n",
    "σ = 1-P_peak/(sqrt(2)*P_crit)       # nonlinear correction factor that accounts for self focusing/Kerr lensing"
   ]
  },
  {
   "cell_type": "code",
   "execution_count": 4,
   "metadata": {},
   "outputs": [
    {
     "name": "stdout",
     "output_type": "stream",
     "text": [
      "6.691396288277442e-23\n",
      "1.0012675366791968\n"
     ]
    }
   ],
   "source": [
    "println(n2)\n",
    "println(n0^2)"
   ]
  },
  {
   "cell_type": "code",
   "execution_count": 55,
   "metadata": {},
   "outputs": [
    {
     "data": {
      "text/plain": [
       "9.544637297781407e-51"
      ]
     },
     "metadata": {},
     "output_type": "display_data"
    }
   ],
   "source": [
    "γ3 = PhysData.γ3_gas(gas)"
   ]
  },
  {
   "cell_type": "code",
   "execution_count": 56,
   "metadata": {},
   "outputs": [
    {
     "data": {
      "text/plain": [
       "7.436400870534807e-51"
      ]
     },
     "metadata": {},
     "output_type": "display_data"
    }
   ],
   "source": [
    "pres = 1.0\n",
    "n2 = 5.2e-23 #6.691396288277442e-23\n",
    "dens0 = PhysData.density(gas, pres)\n",
    "χ3 = 4/3 * PhysData.ε_0*PhysData.c * n2 * n0^2\n",
    "γ3 = χ3/dens0"
   ]
  },
  {
   "cell_type": "code",
   "execution_count": 39,
   "metadata": {},
   "outputs": [
    {
     "name": "stdout",
     "output_type": "stream",
     "text": [
      "γ3 = 7.407913225952237e-51\n"
     ]
    }
   ],
   "source": [
    "n2 = 5.2e-23 #6.691396288277442e-23\n",
    "dens0 = PhysData.density(gas, pres)\n",
    "Chi3 = 4/3 * PhysData.ε_0*PhysData.c * n2 # note: assuming n0 ≈ 1\n",
    "γ3 = Chi3/dens0\n",
    "println(\"γ3 = \",γ3)"
   ]
  },
  {
   "cell_type": "code",
   "execution_count": 41,
   "metadata": {},
   "outputs": [
    {
     "data": {
      "text/plain": [
       "3.033892024678487"
      ]
     },
     "metadata": {},
     "output_type": "display_data"
    }
   ],
   "source": [
    "7.407913225952237e-51/2.4417194698078558e-51"
   ]
  },
  {
   "cell_type": "code",
   "execution_count": 10,
   "metadata": {},
   "outputs": [
    {
     "data": {
      "text/plain": [
       "0.00016412154546772154"
      ]
     },
     "metadata": {},
     "output_type": "display_data"
    }
   ],
   "source": [
    "w0 = sqrt(R*λ0/(2*pi) * sqrt(C*(2-C)) )"
   ]
  },
  {
   "cell_type": "code",
   "execution_count": 14,
   "metadata": {},
   "outputs": [
    {
     "data": {
      "text/plain": [
       "0.000574305774561296"
      ]
     },
     "metadata": {},
     "output_type": "display_data"
    }
   ],
   "source": [
    "wm = sqrt(R*λ0/pi * sqrt(C/(2-C)) )"
   ]
  },
  {
   "cell_type": "code",
   "execution_count": null,
   "metadata": {},
   "outputs": [
    {
     "data": {
      "text/plain": [
       "0.00013908623153512486"
      ]
     },
     "metadata": {},
     "output_type": "display_data"
    }
   ],
   "source": [
    "w0_NL = sqrt(λ0*L/(2*pi) * sqrt(σ*(2*R/L-1)))"
   ]
  },
  {
   "cell_type": "code",
   "execution_count": 12,
   "metadata": {},
   "outputs": [
    {
     "name": "stdout",
     "output_type": "stream",
     "text": [
      "wz_NL = 486.70042501093536 um\n"
     ]
    }
   ],
   "source": [
    "zr_NL = pi*w0_NL^2/λ0\n",
    "propz = -L/2\n",
    "\n",
    "wz_NL = w0_NL * sqrt(1+σ*(propz/zr_NL)^2)\n",
    "println(\"wz_NL = \", wz_NL.*1e6, \" um\")"
   ]
  },
  {
   "cell_type": "code",
   "execution_count": 13,
   "metadata": {},
   "outputs": [
    {
     "name": "stdout",
     "output_type": "stream",
     "text": [
      "w0_L = 204.52086815397297 um\n"
     ]
    }
   ],
   "source": [
    "propz = L/2\n",
    "\n",
    "w0_L = sqrt(wz_NL^2 - sqrt(π^2 *wz_NL^4 - 4* λ0^2 *propz^2)/π)/sqrt(2)\n",
    "# w0_L = sqrt(1+(propz/zr)^2) / wz\n",
    "println(\"w0_L = \", w0_L.*1e6, \" um\")"
   ]
  },
  {
   "cell_type": "code",
   "execution_count": null,
   "metadata": {},
   "outputs": [],
   "source": []
  }
 ],
 "metadata": {
  "kernelspec": {
   "display_name": "Julia 1.10.3",
   "language": "julia",
   "name": "julia-1.10"
  },
  "language_info": {
   "file_extension": ".jl",
   "mimetype": "application/julia",
   "name": "julia",
   "version": "1.10.3"
  }
 },
 "nbformat": 4,
 "nbformat_minor": 2
}
