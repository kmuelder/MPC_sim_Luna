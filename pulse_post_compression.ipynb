{
 "cells": [
  {
   "cell_type": "code",
   "execution_count": null,
   "metadata": {
    "vscode": {
     "languageId": "julia"
    }
   },
   "outputs": [],
   "source": [
    "using Luna\n",
    "using Optim\n",
    "using FFTW\n",
    "using DelimitedFiles\n",
    "using Printf\n",
    "import Luna: Hankel \n",
    "using DSP"
   ]
  },
  {
   "cell_type": "code",
   "execution_count": null,
   "metadata": {
    "vscode": {
     "languageId": "julia"
    }
   },
   "outputs": [
    {
     "data": {
      "text/plain": [
       "true"
      ]
     },
     "metadata": {},
     "output_type": "display_data"
    }
   ],
   "source": [
    "using PyPlot\n",
    "pygui(true)"
   ]
  },
  {
   "cell_type": "markdown",
   "metadata": {},
   "source": [
    "# Pulse Compression\n",
    "Compressing the output pulse by finding the best GDD value that maximizes the pulse intensity/power (?)"
   ]
  },
  {
   "cell_type": "code",
   "execution_count": null,
   "metadata": {
    "vscode": {
     "languageId": "julia"
    }
   },
   "outputs": [
    {
     "data": {
      "text/plain": [
       "\"output_sorted\\\\complex spectrum output dummy data\\\\run_2025_01_23__12_02_16\""
      ]
     },
     "metadata": {},
     "output_type": "display_data"
    }
   ],
   "source": [
    "main_folder = joinpath(\"output_sorted\", \"complex spectrum output dummy data\", \"run_2025_01_23__12_02_16\")\n",
    "#main_folder = joinpath(\"output_sorted\", \"complex spectrum output dummy data\")"
   ]
  },
  {
   "cell_type": "code",
   "execution_count": null,
   "metadata": {
    "vscode": {
     "languageId": "julia"
    }
   },
   "outputs": [
    {
     "name": "stdout",
     "output_type": "stream",
     "text": [
      "Vector{ComplexF64}\n"
     ]
    }
   ],
   "source": [
    "# omega_path = joinpath(main_folder, \"omega_axis.txt\")\n",
    "# time_path = joinpath(main_folder, \"time_axis.txt\")\n",
    "spectrum_path = joinpath(main_folder, \"complex_spectrum_output.txt\")\n",
    "\n",
    "# ω = readdlm(omega_path, Float64)[:,1]                                         # angular frequencies\n",
    "# t = readdlm(time_path, Float64)[:,1]                                         # time steps \n",
    "data = readdlm(spectrum_path, '\\t') \n",
    "\n",
    "ω = data[:, 1]\n",
    "Ẽω_real = data[:, 2]\n",
    "Ẽω_imag = data[:, 3]\n",
    "Ẽω = Ẽω_real .+ 1im .*Ẽω_imag\n",
    "\n",
    "println(typeof(Ẽω))"
   ]
  },
  {
   "cell_type": "code",
   "execution_count": null,
   "metadata": {
    "vscode": {
     "languageId": "julia"
    }
   },
   "outputs": [
    {
     "name": "stderr",
     "output_type": "stream",
     "text": [
      "┌ Info: Freq limits 0.21 - 0.43 PHz\n",
      "└ @ Luna.Grid C:\\Users\\muelderk\\.julia\\packages\\Luna\\7FAkO\\src\\Grid.jl:40\n",
      "┌ Info: Samples needed: 3854.47, samples: 4096, δt = 389.16 as\n",
      "└ @ Luna.Grid C:\\Users\\muelderk\\.julia\\packages\\Luna\\7FAkO\\src\\Grid.jl:44\n",
      "┌ Info: Requested time window: 1500.0 fs, actual time window: 1594.0 fs\n",
      "└ @ Luna.Grid C:\\Users\\muelderk\\.julia\\packages\\Luna\\7FAkO\\src\\Grid.jl:46\n",
      "┌ Info: Grid: samples 2048 / 4096, ωmax 4.04e+15 / 8.07e+15\n",
      "└ @ Luna.Grid C:\\Users\\muelderk\\.julia\\packages\\Luna\\7FAkO\\src\\Grid.jl:78\n"
     ]
    },
    {
     "data": {
      "text/plain": [
       "Luna.Grid.RealGrid(0.3801934, 1.03e-6, [-7.96995811460118e-13, -7.96217495237989e-13, -7.954391790158599e-13, -7.94660862793731e-13, -7.938825465716019e-13, -7.931042303494729e-13, -7.923259141273438e-13, -7.915475979052148e-13, -7.907692816830859e-13, -7.899909654609568e-13  …  7.892126492388278e-13, 7.899909654609568e-13, 7.907692816830859e-13, 7.915475979052148e-13, 7.923259141273438e-13, 7.931042303494729e-13, 7.938825465716019e-13, 7.94660862793731e-13, 7.954391790158599e-13, 7.96217495237989e-13], [0.0, 3.941793179357254e12, 7.883586358714508e12, 1.1825379538071762e13, 1.5767172717429016e13, 1.970896589678627e13, 2.3650759076143523e13, 2.7592552255500777e13, 3.153434543485803e13, 3.547613861421528e13  …  4.0009200770476125e15, 4.00486187022697e15, 4.008803663406327e15, 4.0127454565856845e15, 4.0166872497650415e15, 4.020629042944399e15, 4.024570836123756e15, 4.0285126293031135e15, 4.0324544224824705e15, 4.036396215661828e15], [-7.96995811460118e-13, -7.966066533490535e-13, -7.96217495237989e-13, -7.958283371269245e-13, -7.954391790158599e-13, -7.950500209047954e-13, -7.94660862793731e-13, -7.942717046826664e-13, -7.938825465716019e-13, -7.934933884605374e-13  …  7.931042303494729e-13, 7.934933884605374e-13, 7.938825465716019e-13, 7.942717046826664e-13, 7.94660862793731e-13, 7.950500209047954e-13, 7.954391790158599e-13, 7.958283371269245e-13, 7.96217495237989e-13, 7.966066533490535e-13], [0.0, 3.941793179357254e12, 7.883586358714508e12, 1.1825379538071762e13, 1.5767172717429016e13, 1.970896589678627e13, 2.3650759076143523e13, 2.7592552255500777e13, 3.153434543485803e13, 3.547613861421528e13  …  8.037316292709441e15, 8.041258085888798e15, 8.045199879068155e15, 8.049141672247512e15, 8.05308346542687e15, 8.057025258606227e15, 8.060967051785584e15, 8.064908844964941e15, 8.068850638144299e15, 8.072792431323656e15], Bool[0, 0, 0, 0, 0, 0, 0, 0, 0, 0  …  0, 0, 0, 0, 0, 0, 0, 0, 0, 0], [0.0, 0.0, 0.0, 0.0, 0.0, 0.0, 0.0, 0.0, 0.0, 0.0  …  0.0, 0.0, 0.0, 0.0, 0.0, 0.0, 0.0, 0.0, 0.0, 0.0], [0.0, 1.653125456403719e-26, 2.1753100450769013e-13, 5.19875545786469e-9, 8.114835998148608e-7, 1.6936984529564985e-5, 0.0001293017671844855, 0.0005556699178607524, 0.0016671900158871011, 0.003935076702683577  …  0.0044107314278481, 0.0018943663488490438, 0.0006425522003622429, 0.00015306439483303151, 2.072117373242209e-5, 1.0433009735033983e-6, 7.262178704554916e-9, 3.5886217599876535e-13, 4.494957285902906e-26, 0.0], [0.0, 9.802032566461426e-53, 1.653125456403719e-26, 9.186637214205499e-18, 2.1753100450769013e-13, 9.198807002717202e-11, 5.19875545786469e-9, 9.303474373862816e-8, 8.114835998148608e-7, 4.383942041383578e-6  …  4.902699393707316e-6, 9.201151764896105e-7, 1.0738020059569806e-7, 6.144427023440043e-9, 1.1239677580808265e-10, 2.793980082869972e-13, 1.2823782589398165e-17, 2.7259328886918934e-26, 2.6646560379806947e-52, 0.0])"
      ]
     },
     "metadata": {},
     "output_type": "display_data"
    }
   ],
   "source": [
    "# simulation grid parameters\n",
    "L = 380.1934e-3          # MPC cell length [m]\n",
    "λ0 = 1030e-9        # central wavelength [m]\n",
    "λlims = (700e-9, 1400e-9) #(700e-9, 1400e-9) #(600e-9, 1500e-9) # wavelength range of interest [m]\n",
    "trange = 10*150e-15 #300.0e-15 #0.05e-12    # total extent of time window required [s], default was 50fs (NOTE: if this is too short, the range is extended automatically; this value was taken from an older version of the code; no justification!)\n",
    "\n",
    "\n",
    "grid = Grid.RealGrid(L, λ0, λlims, trange)               # set up time & space grid for gradient approximation"
   ]
  },
  {
   "cell_type": "code",
   "execution_count": null,
   "metadata": {
    "vscode": {
     "languageId": "julia"
    }
   },
   "outputs": [
    {
     "data": {
      "text/plain": [
       "1025-element Vector{ComplexF64}:\n",
       "   2493.431865349321 - 856.3701248801377im\n",
       "  1316.0831050426873 + 2245.8647120039795im\n",
       "  -1860.935587239619 + 1676.126718704411im\n",
       " -1887.8465493821727 - 1390.9354240364587im\n",
       "   906.3639719783575 - 1929.6598232681056im\n",
       "  1814.3376464736104 + 482.206794348455im\n",
       "  -181.1010393695233 + 1589.331765171006im\n",
       " -1328.7265604708703 - 36.95057088869453im\n",
       "  43.243123887338584 - 1117.2502947265516im\n",
       "  1028.9921226254799 + 150.03031235811375im\n",
       "                     ⋮\n",
       "  -344.3287563971525 + 80.5952191527171im\n",
       "  -295.8249588949147 + 161.57781175095096im\n",
       " -229.47117502599625 + 231.03392065551867im\n",
       " -147.95527398449852 + 283.2571512336242im\n",
       "  -55.70667360736914 + 313.1896049196607im\n",
       "   41.18324901512851 + 317.00580837181224im\n",
       "  135.24724271905131 + 292.70801939986626im\n",
       "  218.15530369356742 + 240.66202206645468im\n",
       "   281.4506323751915 + 163.98801372471814im"
      ]
     },
     "metadata": {},
     "output_type": "display_data"
    }
   ],
   "source": [
    "Ẽω_comp = GDD -> -maximum(FFTW.irfft(Fields.prop_taylor(Ẽω, grid, [0, 0, GDD*1e-30], λ0), length(grid.t), 1))\n",
    "#println(typeof(Ẽω_comp))\n",
    "\n",
    "result = optimize(Ẽω_comp, 0, 1000)\n",
    "best_gdd = Optim.minimizer(result)\n",
    "\n",
    "ϕ_comp = [0, 0, best_gdd*1e-30, 0]\n",
    "Ẽω_comp = Fields.prop_taylor(Ẽω, grid, ϕ_comp, λ0)\n",
    "\n",
    "# for i in [100, 1000, 10, 1]\n",
    "#     result = optimize(Ẽω_comp, i)                # find bestgdd value from different starting points\n",
    "#     gdd = Optim.minimizer(result)\n",
    "#     if Ẽω_comp(bestgdd) > Ẽω_comp(gdd)\n",
    "#         bestgdd = gdd\n",
    "#     end\n",
    "# end"
   ]
  },
  {
   "cell_type": "code",
   "execution_count": null,
   "metadata": {
    "vscode": {
     "languageId": "julia"
    }
   },
   "outputs": [
    {
     "ename": "MethodError",
     "evalue": "MethodError: no method matching irfft(::Tuple{Vector{ComplexF64}, Int64, Int64})\n\nClosest candidates are:\n  irfft(!Matched::AbstractArray{<:Complex{<:Union{Integer, Rational}}}, !Matched::Integer, !Matched::Any)\n   @ AbstractFFTs C:\\Users\\muelderk\\.julia\\packages\\AbstractFFTs\\4iQz5\\src\\definitions.jl:314\n  irfft(!Matched::AbstractArray{<:Real}, !Matched::Integer, !Matched::Any)\n   @ AbstractFFTs C:\\Users\\muelderk\\.julia\\packages\\AbstractFFTs\\4iQz5\\src\\definitions.jl:313\n  irfft(!Matched::AbstractArray, !Matched::Integer, !Matched::Any)\n   @ AbstractFFTs C:\\Users\\muelderk\\.julia\\packages\\AbstractFFTs\\4iQz5\\src\\definitions.jl:306\n  ...\n",
     "output_type": "error",
     "traceback": [
      "MethodError: no method matching irfft(::Tuple{Vector{ComplexF64}, Int64, Int64})\n",
      "\n",
      "\n",
      "\n",
      "Closest candidates are:\n",
      "\n",
      "  irfft(!Matched::AbstractArray{<:Complex{<:Union{Integer, Rational}}}, !Matched::Integer, !Matched::Any)\n",
      "\n",
      "   @ AbstractFFTs C:\\Users\\muelderk\\.julia\\packages\\AbstractFFTs\\4iQz5\\src\\definitions.jl:314\n",
      "\n",
      "  irfft(!Matched::AbstractArray{<:Real}, !Matched::Integer, !Matched::Any)\n",
      "\n",
      "   @ AbstractFFTs C:\\Users\\muelderk\\.julia\\packages\\AbstractFFTs\\4iQz5\\src\\definitions.jl:313\n",
      "\n",
      "  irfft(!Matched::AbstractArray, !Matched::Integer, !Matched::Any)\n",
      "\n",
      "   @ AbstractFFTs C:\\Users\\muelderk\\.julia\\packages\\AbstractFFTs\\4iQz5\\src\\definitions.jl:306\n",
      "\n",
      "  ...\n",
      "\n",
      "\n",
      "\n",
      "\n",
      "\n",
      "Stacktrace:\n",
      "\n",
      " [1] (::var\"#21#22\")(zz::Float64)\n",
      "\n",
      "   @ Main .\\home\\muelderk\\My Documents\\MPC\\MPC-simulation\\jl_notebook_cell_df34fa98e69747e1a8f8a730347b8e2f_X10sZmlsZQ==.jl:5\n",
      "\n",
      " [2] optimize(f::var\"#21#22\", x_lower::Float64, x_upper::Float64, mo::Brent; rel_tol::Float64, abs_tol::Float64, iterations::Int64, time_limit::Float64, store_trace::Bool, show_trace::Bool, show_warnings::Bool, callback::Nothing, show_every::Int64, extended_trace::Bool)\n",
      "\n",
      "   @ Optim C:\\Users\\muelderk\\.julia\\packages\\Optim\\fBdaz\\src\\univariate\\solvers\\brent.jl:49\n",
      "\n",
      " [3] #optimize#82\n",
      "\n",
      "   @ C:\\Users\\muelderk\\.julia\\packages\\Optim\\fBdaz\\src\\univariate\\optimize\\interface.jl:22 [inlined]\n",
      "\n",
      " [4] optimize(f::Function, lower::Int64, upper::Int64)\n",
      "\n",
      "   @ Optim C:\\Users\\muelderk\\.julia\\packages\\Optim\\fBdaz\\src\\univariate\\optimize\\interface.jl:2\n",
      "\n",
      " [5] top-level scope\n",
      "\n",
      "   @ \\home\\muelderk\\My Documents\\MPC\\MPC-simulation\\jl_notebook_cell_df34fa98e69747e1a8f8a730347b8e2f_X10sZmlsZQ==.jl:6"
     ]
    }
   ],
   "source": [
    "# Add post compression of the pulse (remove GDD)\n",
    "\n",
    "    \n",
    "# find the best GDD value for which pulse power/intensity? is maximized\n",
    "fun = zz -> -maximum((abs((FFTW.irfft((Fields.prop_taylor(Ẽω, grid, [0, 0, zz*1e-30], λ0), length(grid.t), 1)))).^2)) # returns negative maximum intensity for pulse with a certain GDD\n",
    "result = optimize(fun, 0, 1000)\n",
    "best_gdd = Optim.minimizer(result)                        \n",
    "for initial_gdd = [100,1000,10,1]\n",
    "    result = optimize(fun, initial_gdd)                # find bestgdd value from different starting points\n",
    "    gdd = Optim.minimizer(result)\n",
    "    if fun(bestgdd) > fun(gdd)\n",
    "        bestgdd = gdd\n",
    "    end\n",
    "end\n",
    "\n",
    "# GDD_comp = -600e-30\n",
    "ϕ_comp = [0, 0, best_gdd*1e-30, 0]\n",
    "Ẽω_comp = Fields.prop_taylor(Ẽω, grid, ϕ_comp, λ0)"
   ]
  }
 ],
 "metadata": {
  "language_info": {
   "name": "python"
  }
 },
 "nbformat": 4,
 "nbformat_minor": 2
}
