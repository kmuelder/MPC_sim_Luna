{
 "cells": [
  {
   "cell_type": "code",
   "execution_count": null,
   "id": "10c8e93f",
   "metadata": {},
   "outputs": [],
   "source": [
    "include(joinpath(pwd(), \"MPC_functions.jl\"))\n",
    "using  Luna\n",
    "import FFTW                    \n",
    "import Luna: Hankel  \n",
    "import NumericalIntegration: integrate, SimpsonEven          \n",
    "import Dates                   \n",
    "using LaTeXStrings\n",
    "using Printf\n",
    "using DSP\n",
    "using HDF5\n",
    "using PyPlot\n",
    "pygui(true)\n",
    "using Plots\n"
   ]
  },
  {
   "cell_type": "code",
   "execution_count": null,
   "id": "7576297d",
   "metadata": {},
   "outputs": [],
   "source": [
    "PyPlot.rcdefaults() # reset to default\n",
    "PyPlot.close(\"all\")\n",
    "\n",
    "# Set global plotting parameters for PyPlot.jl\n",
    "PyPlot.rc(\"font\", size=12)      #family=\"serif\",\n",
    "# PyPlot.rc(\"axes\", titlesize=18, labelsize=16)\n",
    "# PyPlot.rc(\"xtick\", labelsize=12)\n",
    "# PyPlot.rc(\"ytick\", labelsize=12)\n",
    "PyPlot.rc(\"lines\", linewidth=2)\n",
    "size_py = 0.393701*[20, 15]     # figure size\n",
    "size_py_wide = 0.393701*[20, 8]# figure size in cm\n",
    "res = 300                       # figure resolution (dpi)"
   ]
  },
  {
   "cell_type": "code",
   "execution_count": null,
   "id": "15b70f54",
   "metadata": {},
   "outputs": [],
   "source": [
    "# Set global plotting parameters for Plots.jl\n",
    "default(\n",
    "#       guidefont = font(16, \"Times\"),    # Axis label font\n",
    "#       tickfont = font(14),              # Axis tick font\n",
    "#       legendfontsize = 12,              # Legend font size\n",
    "#       titlefont = font(18, \"Arial\"),    # Title font\n",
    "        linewidth=2\n",
    "  )\n",
    "size_jl=(800,600)   # figure size in pixel\n",
    "# closeall()\n"
   ]
  },
  {
   "cell_type": "code",
   "execution_count": null,
   "id": "abe4fdcd",
   "metadata": {},
   "outputs": [],
   "source": [
    "save_figs = false\n",
    "num_passes = true"
   ]
  },
  {
   "cell_type": "markdown",
   "id": "e5930177",
   "metadata": {},
   "source": [
    "## I) Read data from .h5 file"
   ]
  },
  {
   "cell_type": "code",
   "execution_count": null,
   "id": "bfc2e0f8",
   "metadata": {},
   "outputs": [],
   "source": [
    "run = \"run_2025_06_04__00_44_43\"\n",
    "run_path = joinpath(\"output_thesis\", run)\n",
    "\n",
    "params = Dict()\n",
    "\n",
    "# Open file read-only\n",
    "h5open(joinpath(run_path, \"output.h5\"), \"r\") do file\n",
    "    # List datasets/groups in the file\n",
    "    println(keys(file))\n",
    "    \n",
    "    # Read dataset\n",
    "    global Eωr0 = read(file[\"Eωr0\"])\n",
    "    global Eωr_in = read(file[\"Eωr_in\"])\n",
    "    global Eωr_out = read(file[\"Eωr_out\"])\n",
    "\n",
    "    # Read beam waists\n",
    "    global w_z = read(file[\"w_z\"]) \n",
    "    global w_min = read(file[\"w_min\"]) \n",
    "    global w_mirr = read(file[\"w_mirr\"]) \n",
    "    \n",
    "    global ω = read(file[\"ω\"])\n",
    "    global t = read(file[\"t\"])\n",
    "    global r = read(file[\"r\"])\n",
    "    global z = read(file[\"z\"])\n",
    "\n",
    "    # file[\"params\"] is a group with keys as parameter names\n",
    "    param_group = file[\"params\"]\n",
    "    for name in keys(param_group)\n",
    "        params[name] = read(param_group[name])\n",
    "    end\n",
    "end"
   ]
  },
  {
   "cell_type": "markdown",
   "id": "a2f6189d",
   "metadata": {},
   "source": [
    "Regenerate Hankel transform matrix \"q\", simulation grid as well as additional coordinate axes rsym, f and λ"
   ]
  },
  {
   "cell_type": "code",
   "execution_count": null,
   "id": "7d202212",
   "metadata": {},
   "outputs": [],
   "source": [
    "q = Hankel.QDHT(params[\"R_Hankel\"], params[\"N_Hankel\"], dim=2)                  # set up discrete Hankel transform matrix, transformation done along 2nd dimension \n",
    "q_1D = Hankel.QDHT(params[\"R_Hankel\"], params[\"N_Hankel\"], dim=1)               # to be applied to arrays that where integrated over ω, so r becomes 1rst dimension\n",
    "rsym = Hankel.Rsymmetric(q)                                 # sampled radii [m] mirrored around and including r=0 so that rsym = [–rn, ...-r2, -r1, 0, r1, r2, ..., rn]\n",
    "\n",
    "L = params[\"L\"]\n",
    "λ0 = params[\"λ0\"]\n",
    "λlims = (params[\"λmin\"], params[\"λmax\"])\n",
    "trange_request = params[\"trange_request\"]\n",
    "\n",
    "grid = Grid.RealGrid(L, λ0, λlims, trange_request)               # set up time & space grid for gradient approximation\n",
    "f = ω./2π                      # sampled linear frequencies [Hz]\n",
    "λ = PhysData.wlfreq.(ω)         # sampled wavelengths [m]\n",
    "λ[1] = 1.0                        # avoid \"Inf\" value for DC frequency"
   ]
  },
  {
   "cell_type": "markdown",
   "id": "a76d5119",
   "metadata": {},
   "source": [
    "## II) Analyze final output (last propagation step of last pass)"
   ]
  },
  {
   "cell_type": "markdown",
   "id": "5e1e4ef8",
   "metadata": {},
   "source": [
    "### a) Input vs. output spectrum and spectral phase"
   ]
  },
  {
   "cell_type": "code",
   "execution_count": null,
   "id": "13fe11af",
   "metadata": {},
   "outputs": [],
   "source": [
    "Eωr0_in = Eωr0[:,1,1]\n",
    "Eωr0_out = Eωr0[:,end,end]"
   ]
  },
  {
   "cell_type": "code",
   "execution_count": null,
   "id": "ae0ef68f",
   "metadata": {},
   "outputs": [],
   "source": [
    "ϕω_in = unwrap_phase(ω, t, Eωr0_in)\n",
    "ϕω_out = unwrap_phase(ω, t, Eωr0_out)\n",
    "\n",
    "ϕω_in = blank_phase(ω, abs2.(Eωr0_in), ϕω_in; level=0.05)\n",
    "ϕω_out = blank_phase(ω, abs2.(Eωr0_out), ϕω_out; level=0.05)"
   ]
  },
  {
   "cell_type": "code",
   "execution_count": null,
   "id": "7ada147e",
   "metadata": {},
   "outputs": [],
   "source": [
    "fig, ax1 = plt.subplots(figsize=size_py)\n",
    "ax1.set_title(\"Input vs. output spectrum (for r=0)\")\n",
    "ax1.plot(λ.*1e9, Maths.normbymax(abs2.(Eωr0_in)), label=\"I_in\")\n",
    "ax1.plot(λ.*1e9, Maths.normbymax(abs2.(Eωr0_out)), label=\"I_out\")\n",
    "ax2 = ax1.twinx()\n",
    "ax2.plot(λ.*1e9, ϕω_in, label=\"ϕω_in\", color=\"green\")\n",
    "ax2.plot(λ.*1e9, ϕω_out, label=\"ϕω_out\", color=\"red\")\n",
    "ax1.set_xlim(700, 1400)\n",
    "# ax1.set_xlim(λlims[1]*1e9, λlims[2]*1e9)\n",
    "ax1.set_xlabel(\"λ [nm]\")\n",
    "ax1.set_ylabel(\"I [norm.]\")\n",
    "ax2.set_ylabel(\"phase [rad]\")\n",
    "ax1.legend(loc=\"upper left\")\n",
    "ax2.legend(loc=\"upper right\")\n",
    "plt.tight_layout()\n",
    "if save_figs \n",
    "    plt.savefig(joinpath(run_path, \"spectrum_in_vs_out.png\"), dpi=res) \n",
    "end\n",
    "plt.gcf()"
   ]
  },
  {
   "cell_type": "markdown",
   "id": "a99fe611",
   "metadata": {},
   "source": [
    "### b) Input vs. output pulse"
   ]
  },
  {
   "cell_type": "code",
   "execution_count": null,
   "id": "d69f3603",
   "metadata": {},
   "outputs": [],
   "source": [
    "Etr0_in = Maths.hilbert(FFTW.irfft(Eωr0_in, length(t), 1))\n",
    "Etr0_out = Maths.hilbert(FFTW.irfft(Eωr0_out, length(t), 1))\n",
    "\n",
    "ϕt_in = unwrap(angle.(Etr0_in))\n",
    "ϕt_out = unwrap(angle.(Etr0_out))\n",
    "\n",
    "ϕt_in = blank_phase(t, abs2.(Etr0_in), ϕt_in; level=0.05)\n",
    "ϕt_out = blank_phase(t, abs2.(Etr0_out), ϕt_out; level=0.05)"
   ]
  },
  {
   "cell_type": "code",
   "execution_count": null,
   "id": "15b8378d",
   "metadata": {},
   "outputs": [],
   "source": [
    "fig, ax1 = plt.subplots(figsize=size_py)\n",
    "ax1.set_title(\"Input vs. output pulse (for r=0)\")\n",
    "ax1.plot(t.*1e15, Maths.normbymax(abs2.(Etr0_in)), label=\"I_in\")\n",
    "ax1.plot(t.*1e15, Maths.normbymax(abs2.(Etr0_out)), label=\"I_out\")\n",
    "ax2 = ax1.twinx()\n",
    "ax2.plot(t.*1e15, detrend(ϕt_in), label=\"ϕt_in\", color=\"green\")\n",
    "ax2.plot(t.*1e15, detrend(ϕt_out), label=\"ϕt_out\", color=\"red\")\n",
    "# ax1.set_xlim(-200, 200)\n",
    "ax1.set_xlabel(\"t [fs]\")\n",
    "ax1.set_ylabel(\"I [norm.]\")\n",
    "ax2.set_ylabel(\"phase [rad]\")\n",
    "ax1.legend(loc=\"upper left\")\n",
    "ax2.legend(loc=\"upper right\")\n",
    "plt.tight_layout()\n",
    "if save_figs \n",
    "    plt.savefig(joinpath(run_path, \"pulse_in_vs_out.png\"), dpi=res) \n",
    "end\n",
    "plt.gcf()"
   ]
  },
  {
   "cell_type": "markdown",
   "id": "95eb80a2",
   "metadata": {},
   "source": [
    "### c) Spectral homogeinity across r"
   ]
  },
  {
   "cell_type": "code",
   "execution_count": null,
   "id": "6f27b6de",
   "metadata": {},
   "outputs": [],
   "source": [
    "Irλ_out = transpose(Iwlfreq.(ω, abs2.(Eωr_out)))"
   ]
  },
  {
   "cell_type": "code",
   "execution_count": null,
   "id": "5fc199b2",
   "metadata": {},
   "outputs": [],
   "source": [
    "smallval = 1e-50\n",
    "\n",
    "plt.figure(figsize=size_py)\n",
    "plt.suptitle(\"Spectral homogeneity across r at output\")\n",
    "plt.pcolormesh(λ*1e9, r*1e6, Maths.log10_norm(Irλ_out .+smallval, 2))   \n",
    "plt.clim(-6, 0)    \n",
    "plt.colorbar(label=\"log10(I) [norm.]\")\n",
    "plt.xlim(λlims[1]*1e9, λlims[2]*1e9)\n",
    "plt.xlabel(\"λ [nm]\")\n",
    "plt.ylabel(\"r (um)\") \n",
    "plt.tight_layout()\n",
    "if save_figs \n",
    "    plt.savefig(joinpath(run_path, \"spectral_homogeneity.png\"), dpi=res) \n",
    "end\n",
    "plt.gcf()"
   ]
  },
  {
   "cell_type": "markdown",
   "id": "0037e26c",
   "metadata": {},
   "source": [
    "### d) Spatiotemporal profile"
   ]
  },
  {
   "cell_type": "code",
   "execution_count": null,
   "id": "fc19b4c4",
   "metadata": {},
   "outputs": [],
   "source": [
    "Etr_out = Maths.hilbert(FFTW.irfft(Eωr_out, length(t), 1))"
   ]
  },
  {
   "cell_type": "code",
   "execution_count": null,
   "id": "2eb735ce",
   "metadata": {},
   "outputs": [],
   "source": [
    "plt.figure(figsize=size_py) \n",
    "plt.title(\"Spatiotemporal profile at output\")\n",
    "plt.pcolormesh(t.*1e15, rsym.*1e3, Maths.normbymax(abs2.(Hankel.symmetric(Etr_out, q)')))\n",
    "plt.colorbar(label=\"I [norm.]\")\n",
    "plt.xlabel(\"t [fs]\")\n",
    "plt.ylabel(\"r [mm]\")\n",
    "# plt.ylim(minimum(rsym*1e3), maximum(rsym*1e3))\n",
    "# plt.xlim(minimum(t*1e15)/2, maximum(t*1e15)/2)\n",
    "plt.tight_layout()\n",
    "if save_figs \n",
    "    plt.savefig(joinpath(run_path, \"spatiotemporal_profile.png\"), dpi=res) \n",
    "end\n",
    "plt.gcf()"
   ]
  },
  {
   "cell_type": "markdown",
   "id": "71778de8",
   "metadata": {},
   "source": [
    "## III) Analyze overall pulse evolution across all passes"
   ]
  },
  {
   "cell_type": "code",
   "execution_count": null,
   "id": "2ad43123",
   "metadata": {},
   "outputs": [],
   "source": [
    "Nω = size(Eωr_in,1)\n",
    "Nr = size(Eωr_in,2)\n",
    "Nz = size(Eωr0,2)\n",
    "Npass = size(Eωr0,3)\n",
    "\n",
    "Nt = length(t)\n",
    "Nrsym = length(rsym)"
   ]
  },
  {
   "cell_type": "code",
   "execution_count": null,
   "id": "64a7ea07",
   "metadata": {},
   "outputs": [],
   "source": [
    "z_total = zeros(Nz, Npass)\n",
    "\n",
    "for pass in 1:Npass \n",
    "    z_total[:,pass] = z .+ (pass-1)*z[end]\n",
    "end\n",
    "\n",
    "z_total = vcat(z_total...)"
   ]
  },
  {
   "cell_type": "code",
   "execution_count": null,
   "id": "3031fb85",
   "metadata": {},
   "outputs": [],
   "source": [
    "println(L)"
   ]
  },
  {
   "cell_type": "markdown",
   "id": "639f1082",
   "metadata": {},
   "source": [
    "### a) Beams Caustic "
   ]
  },
  {
   "cell_type": "code",
   "execution_count": null,
   "id": "8ac2900f",
   "metadata": {},
   "outputs": [],
   "source": [
    "# PLOT CAUSTIC\n",
    "plt.figure(figsize=size_py_wide) \n",
    "plt.title(\"Caustic\")\n",
    "# plt.plot(z_total.*1e2, cat(dims=1, w_z...).*1e6)\n",
    "# plt.plot(z_total.*1e2, w_z.*1e6)\n",
    "plt.plot(z_total./L, w_z.*1e6)\n",
    "# plt.xlabel(\"z [cm]\")\n",
    "plt.xlabel(\"Pass number\")\n",
    "plt.ylabel(\"w [μm]\")\n",
    "# plt.xlim(28,31)\n",
    "plt.ylim(0,700)\n",
    "plt.tight_layout()\n",
    "if save_figs \n",
    "    plt.savefig(joinpath(run_path, \"caustic.png\"), dpi=res) \n",
    "end\n",
    "plt.gcf()"
   ]
  },
  {
   "cell_type": "markdown",
   "id": "10e9b0a5",
   "metadata": {},
   "source": [
    "### b) Minimum beam waist per pass"
   ]
  },
  {
   "cell_type": "code",
   "execution_count": null,
   "id": "21cc235c",
   "metadata": {},
   "outputs": [],
   "source": [
    "# PLOT minimum beam waist per pass\n",
    "plt.figure(figsize=size_py) \n",
    "plt.title(\"Minimum beam waist per pass\")\n",
    "plt.plot(1:Npass, w_min.*1e6, marker=\"o\")\n",
    "#plt.xticks(0:5:Npass)\n",
    "plt.xlabel(\"pass number\")\n",
    "plt.ylabel(\"w [μm]\")\n",
    "# plt.ylim(95,125)\n",
    "plt.tight_layout()\n",
    "if save_figs \n",
    "    plt.savefig(joinpath(run_path, \"beam_waist_minimum.png\"), dpi=res) \n",
    "end\n",
    "plt.gcf()"
   ]
  },
  {
   "cell_type": "markdown",
   "id": "cb90a965",
   "metadata": {},
   "source": [
    "### c) Mirror beam waist per pass"
   ]
  },
  {
   "cell_type": "code",
   "execution_count": null,
   "id": "09d31355",
   "metadata": {},
   "outputs": [],
   "source": [
    "# PLOT mirror beam waist per pass\n",
    "plt.figure(figsize=size_py) \n",
    "plt.title(\"Mirror beam waist per pass\")\n",
    "plt.plot(1:Npass, w_mirr.*1e6, marker=\"o\")\n",
    "#plt.xticks(0:5:Npass)\n",
    "plt.xlabel(\"pass number\")\n",
    "plt.ylabel(\"w [μm]\")\n",
    "plt.tight_layout()\n",
    "if save_figs \n",
    "    plt.savefig(joinpath(run_path, \"beam_waist_mirr.png\"), dpi=res) \n",
    "end\n",
    "plt.gcf()"
   ]
  },
  {
   "cell_type": "markdown",
   "id": "bd01e96d",
   "metadata": {},
   "source": [
    "### d) Spectral evolution (vs. λ)"
   ]
  },
  {
   "cell_type": "code",
   "execution_count": null,
   "id": "edf386d0",
   "metadata": {},
   "outputs": [],
   "source": [
    "Iωr0 = abs2.(Eωr0)    # convert to intensity\n",
    "Iλr0 = Iwlfreq.(ω, Iωr0)\n",
    "Iλr0_fused = hcat(eachslice(Iλr0, dims=3)...)\n"
   ]
  },
  {
   "cell_type": "code",
   "execution_count": null,
   "id": "7ff201b5",
   "metadata": {},
   "outputs": [],
   "source": [
    "#+++++ PLOT 4: spectral evolution (against λ) \n",
    "plt.figure(figsize=size_py_wide)\n",
    "# plt.suptitle(\"Spectral evolution at r=0\")\n",
    "# plt.pcolormesh(λ.*1e9, z_total.*1e2, Maths.log10_norm(transpose(Iλr0_fused[:, :] .+smallval), 2))   \n",
    "plt.pcolormesh(λ.*1e9, z_total./L, Maths.log10_norm(transpose(Iλr0_fused[:, :] .+smallval), 2))   \n",
    "plt.clim(-6, 0)    \n",
    "plt.colorbar(label=\"log. I (arb. units)\")\n",
    "plt.xlim(λlims[1]*1e9, λlims[2]*1e9)\n",
    "# plt.ylim(2,4)\n",
    "plt.xlabel(\"λ [nm]\")\n",
    "# plt.ylabel(\"z [cm]\")\n",
    "plt.ylabel(\"z/L\")\n",
    "# plt.xlim(800,1300)\n",
    "plt.tight_layout()\n",
    "if save_figs \n",
    "    plt.savefig(joinpath(run_path, \"spectral_evolution_wl_log.png\"), dpi=res) \n",
    "end\n",
    "plt.gcf()\n"
   ]
  },
  {
   "cell_type": "code",
   "execution_count": null,
   "id": "195cadd9",
   "metadata": {},
   "outputs": [],
   "source": [
    "#+++++ PLOT 4: spectral evolution (against λ) \n",
    "plt.figure(figsize=size_py)\n",
    "# plt.suptitle(\"Spectral evolution at r=0\")\n",
    "# plt.pcolormesh(λ.*1e9, z_total.*1e2, Maths.normbymax(transpose(Iλr0_fused[:, :]),2))   \n",
    "plt.pcolormesh(λ.*1e9, z_total./L, Maths.normbymax(transpose(Iλr0_fused[:, :]),2))   \n",
    "plt.clim(0, 1)    \n",
    "plt.colorbar(label=\"Intensity [norm.]\")\n",
    "plt.xlim(λlims[1]*1e9, λlims[2]*1e9)\n",
    "# plt.ylim(0,75)\n",
    "plt.xlabel(\"λ [nm]\")\n",
    "# plt.ylabel(\"z [cm]\")\n",
    "plt.ylabel(\"z/L\")\n",
    "# plt.xlim(700,1400)\n",
    "plt.tight_layout()\n",
    "if save_figs \n",
    "    plt.savefig(joinpath(run_path, \"spectral_evolution_wl.png\"), dpi=res) \n",
    "end\n",
    "plt.gcf()\n"
   ]
  },
  {
   "cell_type": "code",
   "execution_count": null,
   "id": "d641fc95",
   "metadata": {},
   "outputs": [],
   "source": [
    "# # Create an animation object\n",
    "# anim = @animate for i in 1:20:length(z_total)\n",
    "#     Plots.plot(λ.*1e9, Maths.normbymax(Iλr0_fused[:, i]),\n",
    "#     # size=size_jl,\n",
    "#     xlim=(λlims[1]*1e9, λlims[2]*1e9), \n",
    "#     ylim=(0, 1), \n",
    "#     xlabel=(\"λ [nm]\"),\n",
    "#     ylabel=(\"I [norm.]\"), \n",
    "#     label=\"z =  $(round(z_total[i]*1e2, digits=1)) cm\", \n",
    "#     title=\"Spectral evolution\"\n",
    "#     )\n",
    "# end\n",
    "\n",
    "# # Show the animation in the notebook\n",
    "# gif(anim, joinpath(run_path, \"spectral_evolution.gif\"), fps=24)"
   ]
  },
  {
   "cell_type": "code",
   "execution_count": null,
   "id": "1f2631b0",
   "metadata": {},
   "outputs": [],
   "source": [
    "# # Create an animation object\n",
    "# anim = @animate for i in 1:20:length(z_total)\n",
    "#     Plots.plot(λ.*1e9, Maths.log10_norm(Iλr0_fused[:, i] .+smallval), \n",
    "#     # size=size_jl,\n",
    "#     xlim=(λlims[1]*1e9, λlims[2]*1e9), \n",
    "#     ylim=(-6, 0), \n",
    "#     xlabel=(\"λ [nm]\"),\n",
    "#     ylabel=(\"log10(I) [norm.]\"), \n",
    "#     label=\"z =  $(round(z_total[i]*1e2, digits=1)) cm\", \n",
    "#     title=\"Spectral evolution\"\n",
    "#     )\n",
    "# end\n",
    "\n",
    "# # Show the animation in the notebook\n",
    "# gif(anim, joinpath(run_path, \"spectral_evolution_log.gif\"), fps=24)"
   ]
  },
  {
   "cell_type": "markdown",
   "id": "e948bec9",
   "metadata": {},
   "source": [
    "### E) Spectral evolution (vs. f)"
   ]
  },
  {
   "cell_type": "code",
   "execution_count": null,
   "id": "1a935864",
   "metadata": {},
   "outputs": [],
   "source": [
    "Iωr0_fused = hcat(eachslice(Iωr0, dims=3)...)\n",
    "\n",
    "#+++++ PLOT 5: spectral evolution (against f) \n",
    "plt.figure(figsize=size_py)\n",
    "plt.suptitle(\"Spectral evolution at r=0\")\n",
    "# plt.pcolormesh(f*1e-15, z_total.*1e2, Maths.log10_norm(transpose(Iωr0_fused[:, :] .+smallval), 2))   \n",
    "plt.pcolormesh(f*1e-15, z_total./L, Maths.log10_norm(transpose(Iωr0_fused[:, :] .+smallval), 2))   \n",
    "plt.clim(-6, 0)    \n",
    "plt.colorbar(label=\"log. I (arb. units)\")\n",
    "plt.xlim(PhysData.wlfreq(λlims[2])/2pi*1e-15, PhysData.wlfreq(λlims[1])/2pi*1e-15)\n",
    "plt.xlabel(\"f [PHz]\")\n",
    "# plt.ylabel(\"z [cm]\")\n",
    "plt.ylabel(\"z/L\")\n",
    "plt.tight_layout()\n",
    "if save_figs \n",
    "    plt.savefig(joinpath(run_path, \"spectral_evolution_f.png\"), dpi=res) \n",
    "end\n",
    "plt.gcf()"
   ]
  },
  {
   "cell_type": "markdown",
   "id": "f1206c7c",
   "metadata": {},
   "source": [
    "### f) Temporal evolution"
   ]
  },
  {
   "cell_type": "code",
   "execution_count": null,
   "id": "f28b3580",
   "metadata": {},
   "outputs": [],
   "source": [
    "Etr0 = zeros((size(Eωr0,1)-1)*2, size(Eωr0,2), size(Eωr0,3))\n",
    "Itr0 = similar(Etr0)\n",
    "\n",
    "for pass in 1:size(Eωr0,3)\n",
    "    Etr0[:,:,pass] = FFTW.irfft(Eωr0[:,:,pass], length(t), 1)  # pulse for r=0\n",
    "    Itr0[:,:,pass] = abs2.(Maths.hilbert(Etr0[:,:,pass]))           # temporal intensity for r=0\n",
    "end\n",
    "\n",
    "Itr0_fused = hcat(eachslice(Itr0, dims=3)...)"
   ]
  },
  {
   "cell_type": "code",
   "execution_count": null,
   "id": "fe6f9d4a",
   "metadata": {},
   "outputs": [],
   "source": [
    "#+++++ PLOT 4: temporal evolution \n",
    "plt.figure(figsize=size_py)\n",
    "plt.suptitle(\"Temporal evolution at r=0\")\n",
    "# plt.pcolormesh(t.*1e15, z_total.*1e2, Maths.log10_norm(transpose(Itr0_fused[:,:] .+smallval), 2))   \n",
    "plt.pcolormesh(t.*1e15, z_total./L, Maths.log10_norm(transpose(Itr0_fused[:,:] .+smallval), 2))   \n",
    "plt.clim(-6, 0)    \n",
    "plt.colorbar(label=\"log. I (arb. units)\")\n",
    "plt.xlim(minimum(t)*1e15, maximum(t)*1e15)\n",
    "plt.xlabel(\"t [fs]\")\n",
    "# plt.ylabel(\"z [cm]\")\n",
    "plt.ylabel(\"z/L\")\n",
    "plt.tight_layout()\n",
    "if save_figs \n",
    "    plt.savefig(joinpath(run_path, \"temporal_evolution.png\"), dpi=res) \n",
    "end\n",
    "plt.gcf()"
   ]
  },
  {
   "cell_type": "code",
   "execution_count": null,
   "id": "bbacd71f",
   "metadata": {},
   "outputs": [],
   "source": [
    "#+++++ PLOT 4: temporal evolution \n",
    "plt.figure(figsize=size_py)\n",
    "plt.suptitle(\"Temporal evolution at r=0\")\n",
    "# plt.pcolormesh(t.*1e15, z_total.*1e2, Maths.normbymax(transpose(Itr0_fused[:,:] .+smallval), 2))   \n",
    "plt.pcolormesh(t.*1e15, z_total./L, Maths.normbymax(transpose(Itr0_fused[:,:] .+smallval), 2))   \n",
    "plt.clim(0, 1)    \n",
    "plt.colorbar(label=\"Intensity [norm.]\")\n",
    "plt.xlim(minimum(t)*1e15, maximum(t)*1e15)\n",
    "plt.xlabel(\"t [fs]\")\n",
    "# plt.ylabel(\"z [cm]\")\n",
    "plt.ylabel(\"z/L\")\n",
    "plt.tight_layout()\n",
    "if save_figs \n",
    "    plt.savefig(joinpath(run_path, \"temporal_evolution.png\"), dpi=res) \n",
    "end\n",
    "plt.gcf()"
   ]
  },
  {
   "cell_type": "code",
   "execution_count": null,
   "id": "5c56cac1",
   "metadata": {},
   "outputs": [],
   "source": [
    "# # Create an animation object\n",
    "# anim = @animate for i in 1:20:length(z_total)\n",
    "#     Plots.plot(t.*1e15, Maths.normbymax(Itr0_fused[:, i]),\n",
    "#     # size=size_jl,\n",
    "#     ylim=(0, 1), \n",
    "#     xlabel=(\"t [fs]\"),\n",
    "#     ylabel=(\"I [norm.]\"), \n",
    "#     label=\"z =  $(round(z_total[i]*1e2)) cm\", \n",
    "#     title=\"Temporal evolution\"\n",
    "#     )\n",
    "# end\n",
    "\n",
    "# # Show the animation in the notebook\n",
    "# gif(anim, joinpath(run_path, \"temporal_evolution.gif\"), fps=24)"
   ]
  },
  {
   "cell_type": "code",
   "execution_count": null,
   "id": "df574058",
   "metadata": {},
   "outputs": [],
   "source": [
    "# # Create an animation object\n",
    "# anim = @animate for i in 1:20:length(z_total)\n",
    "#     Plots.plot(t.*1e15, Maths.log10_norm(Itr0_fused[:, i] .+smallval),\n",
    "#     # size=size_jl,\n",
    "#     ylim=(-6, 0), \n",
    "#     xlabel=(\"t [fs]\"),\n",
    "#     ylabel=(\"log10(I) [norm.]\"), \n",
    "#     label=\"z =  $(round(z_total[i]*1e2)) cm\", \n",
    "#     title=\"Temporal evolution\"\n",
    "#     )\n",
    "# end\n",
    "\n",
    "# # Show the animation in the notebook\n",
    "# gif(anim, joinpath(run_path, \"temporal_evolution_log.gif\"), fps=24)"
   ]
  },
  {
   "cell_type": "markdown",
   "id": "2f648973",
   "metadata": {},
   "source": [
    "## B-Integral"
   ]
  },
  {
   "cell_type": "code",
   "execution_count": null,
   "id": "8e00c7e1",
   "metadata": {},
   "outputs": [],
   "source": [
    "I_peak = dropdims(maximum(Itr0, dims=1), dims=1)"
   ]
  },
  {
   "cell_type": "code",
   "execution_count": null,
   "id": "7f9c648b",
   "metadata": {},
   "outputs": [],
   "source": [
    "I_peak_fused = dropdims(hcat(I_peak...), dims=1)\n"
   ]
  },
  {
   "cell_type": "code",
   "execution_count": null,
   "id": "5f362d01",
   "metadata": {},
   "outputs": [],
   "source": [
    "size(z_total)"
   ]
  },
  {
   "cell_type": "code",
   "execution_count": null,
   "id": "b48d4c70",
   "metadata": {},
   "outputs": [],
   "source": [
    "fac = 1e-4*PhysData.c*PhysData.ε_0/2 # to convert to intensities in W/cm^2"
   ]
  },
  {
   "cell_type": "code",
   "execution_count": null,
   "id": "a205a0af",
   "metadata": {},
   "outputs": [],
   "source": [
    "# PLOT PEAK INTENSITY\n",
    "plt.figure(figsize=size_py_wide) \n",
    "plt.title(\"PEAK INTENSITY\")\n",
    "# plt.plot(z_total.*1e2, cat(dims=1, w_z...).*1e6)\n",
    "# plt.plot(z_total.*1e2, fac.*I_peak_fused)\n",
    "plt.plot(z_total./L, fac.*I_peak_fused)\n",
    "plt.xlabel(\"z [cm]\")\n",
    "plt.ylabel(\"I [W/cm2]\")\n",
    "plt.ylim(0, 1.2e13)\n",
    "plt.tight_layout()\n",
    "if save_figs \n",
    "    # plt.savefig(joinpath(run_path, \"caustic.png\"), dpi=res) \n",
    "end\n",
    "plt.gcf()"
   ]
  },
  {
   "cell_type": "code",
   "execution_count": null,
   "id": "f1829d59",
   "metadata": {},
   "outputs": [],
   "source": [
    "# integrate peak intensity over z for each pass\n",
    "I_peak_int = zeros(size(I_peak,2))\n",
    "for ii = 1:size(I_peak, 2)\n",
    "    I_peak_int[ii] = integrate(z, I_peak[:, ii], SimpsonEven());\n",
    "end"
   ]
  },
  {
   "cell_type": "code",
   "execution_count": null,
   "id": "d544377d",
   "metadata": {},
   "outputs": [],
   "source": [
    "n2 = params[\"n2\"]\n",
    "B_int = 2pi/λ0*n2*I_peak_int\n",
    "B_int .*= PhysData.c*PhysData.ε_0/2"
   ]
  },
  {
   "cell_type": "code",
   "execution_count": null,
   "id": "fbe270de",
   "metadata": {},
   "outputs": [],
   "source": [
    "# PLOT B-integral per pass\n",
    "plt.figure(figsize=size_py) \n",
    "plt.title(\"B-Integral per pass\")\n",
    "plt.plot(1:Npass, cumsum(B_int), marker=\"o\")\n",
    "#plt.xticks(0:5:Npass)\n",
    "plt.xlabel(\"pass number\")\n",
    "plt.ylabel(\"B-Integral [rad]\")\n",
    "plt.ylim(0,)\n",
    "plt.tight_layout()\n",
    "if save_figs \n",
    "    # plt.savefig(joinpath(run_path, \"beam_waist_mirr.png\"), dpi=res) \n",
    "end\n",
    "plt.gcf()"
   ]
  },
  {
   "cell_type": "code",
   "execution_count": null,
   "id": "3178b8e1",
   "metadata": {},
   "outputs": [],
   "source": [
    "# PLOT B-integral per pass\n",
    "plt.figure(figsize=size_py) \n",
    "plt.title(\"B-Integral per pass\")\n",
    "plt.plot(1:Npass, B_int, marker=\"o\")\n",
    "#plt.xticks(0:5:Npass)\n",
    "plt.xlabel(\"pass number\")\n",
    "plt.ylabel(\"B-Integral [rad]\")\n",
    "plt.ylim(0,)\n",
    "plt.tight_layout()\n",
    "if save_figs \n",
    "    # plt.savefig(joinpath(run_path, \"beam_waist_mirr.png\"), dpi=res) \n",
    "end\n",
    "plt.gcf()"
   ]
  },
  {
   "cell_type": "code",
   "execution_count": null,
   "id": "26d9747e",
   "metadata": {},
   "outputs": [],
   "source": [
    "# Expected accumulated B-Integral based on eq.8 in Viotti et al. 2022\n",
    "E_pulse = params[\"E_pulse\"]\n",
    "τ = params[\"τ\"]\n",
    "k = params[\"k\"]\n",
    "Nrt = params[\"Npass\"]/2\n",
    "\n",
    "P_peak = 0.94*E_pulse/τ\n",
    "B_pass = 4*pi^2*n2*P_peak/λ0^2*(k/Nrt)\n",
    "B_total = Nrt*B_pass\n",
    "\n",
    "println(\"B_pass = \", B_pass)\n",
    "println(\"B_total = \", B_total)"
   ]
  },
  {
   "cell_type": "code",
   "execution_count": null,
   "id": "c8a8c195",
   "metadata": {},
   "outputs": [],
   "source": []
  }
 ],
 "metadata": {
  "kernelspec": {
   "display_name": "Julia 1.10.3",
   "language": "julia",
   "name": "julia-1.10"
  },
  "language_info": {
   "file_extension": ".jl",
   "mimetype": "application/julia",
   "name": "julia",
   "version": "1.10.3"
  }
 },
 "nbformat": 4,
 "nbformat_minor": 5
}
