{
 "cells": [
  {
   "cell_type": "code",
   "execution_count": 2,
   "metadata": {},
   "outputs": [],
   "source": [
    "import PyPlot as plt\n",
    "plt.pygui(true)\n",
    "\n",
    "# Import necessary packages\n",
    "using Luna\n",
    "using LaTeXStrings\n",
    "using DelimitedFiles\n",
    "using Luna\n",
    "import Luna.PhysData: wlfreq\n",
    "import FFTW\n",
    "import Luna: Hankel\n",
    "import NumericalIntegration: integrate, SimpsonEven\n",
    "using DSP\n"
   ]
  },
  {
   "cell_type": "markdown",
   "metadata": {},
   "source": [
    "## Create example output of a simulation"
   ]
  },
  {
   "cell_type": "code",
   "execution_count": 3,
   "metadata": {},
   "outputs": [
    {
     "name": "stderr",
     "output_type": "stream",
     "text": [
      "┌ Info: Freq limits 0.15 - 0.75 PHz\n",
      "└ @ Luna.Grid C:\\Users\\muelderk\\.julia\\packages\\Luna\\7FAkO\\src\\Grid.jl:40\n",
      "┌ Info: Samples needed: 899.38, samples: 1024, δt = 222.38 as\n",
      "└ @ Luna.Grid C:\\Users\\muelderk\\.julia\\packages\\Luna\\7FAkO\\src\\Grid.jl:44\n",
      "┌ Info: Requested time window: 200.0 fs, actual time window: 227.7 fs\n",
      "└ @ Luna.Grid C:\\Users\\muelderk\\.julia\\packages\\Luna\\7FAkO\\src\\Grid.jl:46\n",
      "┌ Info: Grid: samples 512 / 1024, ωmax 7.06e+15 / 1.41e+16\n",
      "└ @ Luna.Grid C:\\Users\\muelderk\\.julia\\packages\\Luna\\7FAkO\\src\\Grid.jl:78\n",
      "┌ Info: Found cached PPT rate for 15.76 eV, 800.0 nm\n",
      "└ @ Luna.Ionisation C:\\Users\\muelderk\\.julia\\packages\\Luna\\7FAkO\\src\\Ionisation.jl:145\n",
      "┌ Info: Found FFTW wisdom at C:\\Users\\muelderk\\.julia\\scratchspaces\\30eb0fb0-5147-11e9-3356-d75b018717ce\\lunacache\\FFTWcache_1threads\n",
      "└ @ Luna.Utils C:\\Users\\muelderk\\.julia\\packages\\Luna\\7FAkO\\src\\Utils.jl:90\n",
      "┌ Info: FFTW wisdom saved to C:\\Users\\muelderk\\.julia\\scratchspaces\\30eb0fb0-5147-11e9-3356-d75b018717ce\\lunacache\\FFTWcache_1threads\n",
      "└ @ Luna.Utils C:\\Users\\muelderk\\.julia\\packages\\Luna\\7FAkO\\src\\Utils.jl:107\n",
      "┌ Info: Starting propagation\n",
      "└ @ Luna.RK45 C:\\Users\\muelderk\\.julia\\packages\\Luna\\7FAkO\\src\\RK45.jl:40\n",
      "┌ Info: Progress: 0.29 %, ETA: 00:06:51, stepsize 1.64e-03, err 0.00, repeated 0\n",
      "└ @ Luna.RK45 C:\\Users\\muelderk\\.julia\\packages\\Luna\\7FAkO\\src\\RK45.jl:55\n",
      "┌ Info: Progress: 5.42 %, ETA: 00:00:45, stepsize 2.51e-02, err 0.00, repeated 0\n",
      "└ @ Luna.RK45 C:\\Users\\muelderk\\.julia\\packages\\Luna\\7FAkO\\src\\RK45.jl:55\n",
      "┌ Info: Progress: 48.89 %, ETA: 00:00:04, stepsize 1.55e-01, err 0.95, repeated 0\n",
      "└ @ Luna.RK45 C:\\Users\\muelderk\\.julia\\packages\\Luna\\7FAkO\\src\\RK45.jl:55\n",
      "┌ Info: Progress: 63.77 %, ETA: 00:00:03, stepsize 8.92e-02, err 0.04, repeated 0\n",
      "└ @ Luna.RK45 C:\\Users\\muelderk\\.julia\\packages\\Luna\\7FAkO\\src\\RK45.jl:55\n",
      "┌ Info: Progress: 82.85 %, ETA: 00:00:01, stepsize 1.15e-01, err 0.00, repeated 0\n",
      "└ @ Luna.RK45 C:\\Users\\muelderk\\.julia\\packages\\Luna\\7FAkO\\src\\RK45.jl:55\n",
      "┌ Info: Propagation finished in 8.072 seconds, 9 steps\n",
      "└ @ Luna.RK45 C:\\Users\\muelderk\\.julia\\packages\\Luna\\7FAkO\\src\\RK45.jl:80\n"
     ]
    }
   ],
   "source": [
    "# From luna example radial.jl\n",
    "\n",
    "gas = :Ar\n",
    "pres = 1.2\n",
    "\n",
    "τ = 20e-15\n",
    "λ0 = 800e-9\n",
    "\n",
    "w0 = 40e-6\n",
    "energy = 2e-9\n",
    "L = 0.6\n",
    "\n",
    "R = 4e-3\n",
    "N = 1024\n",
    "\n",
    "grid = Grid.RealGrid(L, 800e-9, (400e-9, 2000e-9), 0.2e-12)\n",
    "q = Hankel.QDHT(R, N, dim=2)\n",
    "\n",
    "energyfun, energyfun_ω = Fields.energyfuncs(grid, q)\n",
    "\n",
    "densityfun = let dens0=PhysData.density(gas, pres)\n",
    "    z -> dens0\n",
    "end\n",
    "\n",
    "ionpot = PhysData.ionisation_potential(gas)\n",
    "ionrate = Ionisation.ionrate_fun!_PPTcached(gas, λ0)\n",
    "\n",
    "responses = (Nonlinear.Kerr_field(PhysData.γ3_gas(gas)),)\n",
    "             #Nonlinear.PlasmaCumtrapz(grid.to, grid.to, ionrate, ionpot))\n",
    "\n",
    "linop = LinearOps.make_const_linop(grid, q, PhysData.ref_index_fun(gas, pres))\n",
    "\n",
    "normfun = NonlinearRHS.const_norm_radial(grid, q, PhysData.ref_index_fun(gas, pres))\n",
    "\n",
    "inputs = Fields.GaussGaussField(λ0=λ0, τfwhm=τ, energy=energy, w0=w0, propz=-0.3)\n",
    "\n",
    "Eω, transform, FT = Luna.setup(grid, q, densityfun, normfun, responses, inputs)\n",
    "\n",
    "# statsfun = Stats.collect_stats(grid, Eω, Stats.ω0(grid))\n",
    "output = Output.MemoryOutput(0, grid.zmax, 201)\n",
    "Luna.run(Eω, grid, linop, transform, FT, output)"
   ]
  },
  {
   "cell_type": "code",
   "execution_count": 4,
   "metadata": {},
   "outputs": [
    {
     "name": "stdout",
     "output_type": "stream",
     "text": [
      "0.0\n",
      "0.6\n",
      "201\n"
     ]
    }
   ],
   "source": [
    "zout = output.data[\"z\"]\n",
    "println(zout[1])\n",
    "println(zout[end])\n",
    "println(length(zout))"
   ]
  },
  {
   "cell_type": "code",
   "execution_count": 150,
   "metadata": {},
   "outputs": [
    {
     "data": {
      "text/plain": [
       "257×1024×201 Array{ComplexF64, 3}:\n",
       "[:, :, 1] =\n",
       "  -2.34292e-7-4.41662e-8im  …  -1.01554e-23-1.90628e-24im\n",
       "   1.59846e-8-3.08364e-9im      3.62064e-11+2.12526e-10im\n",
       "   8.97523e-9-2.77051e-8im      -5.7681e-11+2.34703e-10im\n",
       "   1.21007e-7-6.28739e-8im      2.16706e-10+1.00798e-10im\n",
       "    3.8584e-8+9.63368e-8im     -1.26526e-10+1.09877e-10im\n",
       "  -8.92988e-8-1.18054e-8im  …   4.70205e-10-6.14986e-10im\n",
       "  -8.45914e-8-2.49019e-8im      -1.13481e-9-5.27438e-10im\n",
       "  -2.08034e-7-1.01065e-7im     -8.35557e-10-1.87866e-9im\n",
       "   -8.9144e-8-3.51533e-8im       2.77944e-9+1.76659e-9im\n",
       "    6.1071e-8+3.98371e-8im      -2.8956e-10-7.76491e-11im\n",
       "             ⋮              ⋱  \n",
       "   6.65665e-8+2.34654e-9im     -9.09626e-11+2.82848e-10im\n",
       "   4.79547e-8+9.02329e-9im     -7.74828e-10+2.40357e-10im\n",
       "   2.79511e-8-2.1242e-8im   …  -2.10032e-10+5.36035e-12im\n",
       " -8.86123e-10-2.83079e-9im      3.50275e-10+3.21114e-10im\n",
       "   5.28825e-9+2.33026e-8im     -2.72348e-10-3.72146e-10im\n",
       "   2.89658e-8-3.27925e-9im     -3.58564e-10-1.10732e-11im\n",
       "   3.04309e-8-2.40218e-8im      4.06098e-10-7.79723e-10im\n",
       "  -2.41024e-8-5.63928e-9im  …   -9.7173e-10+1.67557e-10im\n",
       "  -1.35492e-8+2.65427e-9im      8.32311e-11+1.42866e-10im\n",
       "\n",
       "[:, :, 2] =\n",
       "   -0.0594417-0.0112053im    …    67.7611+12.7736im\n",
       "   -0.0521297+0.0293897im         37.6976-57.7066im\n",
       "   -0.0113106+0.0570026im        -48.3781-49.0385im\n",
       "      0.04072+0.0382922im        -50.5631+46.8436im\n",
       "    0.0497687-0.0211629im         54.2341+43.0073im\n",
       "  -0.00740063-0.0530704im    …    22.7957-66.1428im\n",
       "   -0.0548538+0.00240415im       -70.0707+13.5708im\n",
       "   0.00795704+0.0572669im         57.5232+45.9537im\n",
       "    0.0558483-0.0256767im        -16.0418-75.1101im\n",
       "   -0.0515317-0.0393204im        -23.8852+77.2879im\n",
       "             ⋮               ⋱  \n",
       " -0.000136996-0.000861345im      0.893721+0.933858im\n",
       " -0.000172065-0.00081818im        1.27242+0.0937274im\n",
       "  -0.00031709-0.000732598im  …   0.843351-0.936264im\n",
       " -0.000532846-0.000557823im     -0.434455-1.17009im\n",
       " -0.000732274-0.000217638im      -1.24091+0.0615505im\n",
       " -0.000709605+0.000311653im     -0.103217+1.23891im\n",
       "  -0.00020382+0.000769292im       1.24688+0.0559772im\n",
       "  0.000603504+0.000546868im  …  -0.204435-1.23663im\n",
       "  0.000702883-0.000425763im      -1.07396+0.650535im\n",
       "\n",
       "[:, :, 3] =\n",
       "   -0.0326223-0.0061496im    …    37.1881+7.01029im\n",
       "   -0.0235706+0.0228709im         11.9605-35.8883im\n",
       "   0.00997409+0.0302939im        -36.3513-10.3834im\n",
       "    0.0306726-0.00049801im       -1.99062+37.7756im\n",
       "   0.00416658-0.0293865im         35.5861-13.2906im\n",
       "   -0.0290887-0.00431838im   …   -31.2974-22.2412im\n",
       "  0.000447085+0.03013im           6.33107+38.6552im\n",
       "    0.0296282-0.011358im          17.4313-36.453im\n",
       "   -0.0267556-0.0205463im        -32.3635+27.0057im\n",
       "   0.00320311+0.0354294im         40.1251-18.9992im\n",
       "             ⋮               ⋱  \n",
       " -0.000416382-0.000236093im      0.706532-0.0636912im\n",
       " -0.000448837-9.53294e-5im       0.329595-0.61779im\n",
       " -0.000424604+0.000107918im  …   -0.43375-0.538615im\n",
       " -0.000276257+0.000320811im     -0.615936+0.299739im\n",
       "   2.74243e-5+0.000418357im      0.267985+0.626992im\n",
       "  0.000363582+0.000220739im      0.589299-0.34386im\n",
       "  0.000358167-0.000249958im      -0.50243-0.465594im\n",
       " -0.000169544-0.00041356im   …   -0.19122+0.660774im\n",
       " -0.000422711+0.000157217im      0.645873-0.240217im\n",
       "\n",
       ";;; … \n",
       "\n",
       "[:, :, 199] =\n",
       "  -1.45562e-7-2.74398e-8im   …    1.71358e-7+3.23025e-8im\n",
       "  -1.43048e-7+5.90269e-8im        1.28881e-7-1.10416e-7im\n",
       "  -6.32029e-8+1.60248e-7im        -3.2552e-8-1.5275e-7im\n",
       "   1.21254e-7+1.53531e-7im       -1.34365e-7-1.4458e-8im\n",
       "   2.04954e-7-7.99824e-8im       -2.54833e-8+1.05727e-7im\n",
       "  -6.96695e-8-2.31283e-7im   …    7.87981e-8+1.30018e-8im\n",
       "  -2.34805e-7+1.053e-7im         -7.76814e-9-5.13396e-8im\n",
       "   1.82071e-7+1.92742e-7im       -1.99962e-8+2.15185e-8im\n",
       "     6.952e-8-2.54209e-7im        1.67029e-8-8.5663e-9im\n",
       "  -2.20889e-7+1.2257e-7im        -1.92701e-8+2.70831e-9im\n",
       "             ⋮               ⋱  \n",
       " -3.70749e-11+1.47656e-11im      2.48897e-10+2.6329e-11im\n",
       " -2.03284e-11+2.96309e-11im      1.68263e-10-3.39712e-11im\n",
       "  6.27392e-12+3.16846e-11im  …   6.58495e-11-4.37856e-11im\n",
       "  2.72475e-11+1.0781e-11im       1.43577e-11+2.41713e-11im\n",
       "  1.84886e-11-1.9643e-11im       9.35915e-11+7.70427e-11im\n",
       " -1.47506e-11-2.04287e-11im      1.99644e-10-5.49871e-11im\n",
       " -1.93963e-11+1.39083e-11im      3.69115e-11-2.7208e-10im\n",
       "  1.66003e-11+1.59228e-11im  …  -2.97841e-10-1.10263e-10im\n",
       "  8.76547e-12-2.09351e-11im     -1.28363e-10+3.06579e-10im\n",
       "\n",
       "[:, :, 200] =\n",
       "  -7.98862e-8-1.50593e-8im   …    9.40432e-8+1.7728e-8im\n",
       "  -6.76953e-8+5.12836e-8im        5.30077e-8-7.65843e-8im\n",
       "   1.30303e-8+9.3637e-8im        -5.67697e-8-6.42185e-8im\n",
       "   1.06443e-7+1.40687e-8im       -5.84213e-8+4.56909e-8im\n",
       "   2.05272e-8-1.18985e-7im        4.24554e-8+4.19513e-8im\n",
       "  -1.32562e-7+8.8151e-10im   …    1.90434e-8-3.94769e-8im\n",
       "   5.40336e-8+1.30483e-7im       -2.82874e-8+3.44552e-9im\n",
       "    8.0455e-8-1.21247e-7im        1.39845e-8+8.02072e-9im\n",
       "  -1.41211e-7+3.12861e-8im        -8.4326e-9-5.91795e-9im\n",
       "   1.31503e-7+4.39072e-8im        8.24193e-9+6.79146e-9im\n",
       "             ⋮               ⋱  \n",
       " -6.35773e-12+2.09584e-11im      9.64973e-11-9.77543e-11im\n",
       "   1.0357e-11+1.67823e-11im      2.03152e-11-9.19916e-11im\n",
       "  1.77151e-11-6.36089e-13im  …  -1.79816e-11-3.94985e-11im\n",
       "  4.43481e-12-1.54581e-11im      1.24365e-11-9.13209e-12im\n",
       " -1.36313e-11-5.77578e-12im      2.18326e-11-6.2844e-11im\n",
       " -4.53468e-12+1.3064e-11im      -8.75983e-11-7.24027e-11im\n",
       "  1.30564e-11+1.05222e-12im     -1.11941e-10+1.00877e-10im\n",
       " -4.45537e-12-1.18116e-11im  …   1.21425e-10+1.25046e-10im\n",
       " -6.87891e-12+1.03841e-11im      1.00736e-10-1.52067e-10im\n",
       "\n",
       "[:, :, 201] =\n",
       "  -4.38425e-8-8.26471e-9im   …     5.1612e-8+9.72933e-9im\n",
       "  -2.87789e-8+3.66631e-8im        1.74539e-8-4.80439e-8im\n",
       "    3.1491e-8+4.12346e-8im       -4.44573e-8-1.5374e-8im\n",
       "   4.72809e-8-3.51665e-8im       -5.52481e-9+4.03269e-8im\n",
       "  -5.00907e-8-4.33817e-8im        3.17503e-8-8.0552e-9im\n",
       "  -2.00558e-8+6.99341e-8im   …   -1.78379e-8-1.61377e-8im\n",
       "   7.24395e-8-2.75681e-8im        1.44058e-9+1.55727e-8im\n",
       "  -7.48001e-8-2.79708e-8im        2.55312e-9-8.47123e-9im\n",
       "   5.13193e-8+6.0557e-8im       -7.15816e-10+5.60835e-9im\n",
       "  -3.10047e-8-6.94833e-8im      -3.08977e-10-5.85293e-9im\n",
       "             ⋮               ⋱  \n",
       "  6.81395e-12+9.90176e-12im     -8.89965e-12-7.48573e-11im\n",
       "  1.07226e-11-1.47129e-12im     -4.16575e-11-3.06235e-11im\n",
       "  1.20036e-12-9.65416e-12im  …    -2.297e-11+6.29829e-12im\n",
       " -8.68005e-12-1.59751e-12im     -5.65165e-12-6.3057e-12im\n",
       " -3.77095e-13+8.11609e-12im     -3.65043e-11+7.29754e-13im\n",
       "  7.29956e-12-2.07711e-12im     -4.94611e-12+6.21743e-11im\n",
       " -5.09583e-12-5.07059e-12im      8.26601e-11-2.55973e-12im\n",
       " -5.86981e-13+6.90324e-12im  …  -3.05609e-11-9.06449e-11im\n",
       "  4.77652e-12-4.89029e-12im     -6.99483e-11+7.16144e-11im"
      ]
     },
     "metadata": {},
     "output_type": "display_data"
    }
   ],
   "source": [
    "ω = grid.ω\n",
    "t = grid.t\n",
    "\n",
    "zout = output.data[\"z\"]\n",
    "Eout = output.data[\"Eω\"]\n",
    "\n",
    "Fields.prop_taylor!(Eout, grid, [0, 0, 300e-30], λ0)\n",
    "\n",
    "Erout = (q \\ Eout)"
   ]
  },
  {
   "cell_type": "code",
   "execution_count": 18,
   "metadata": {},
   "outputs": [
    {
     "name": "stdout",
     "output_type": "stream",
     "text": [
      "Integrating field along r..."
     ]
    },
    {
     "ename": "UndefVarError",
     "evalue": "UndefVarError: `Eout` not defined",
     "output_type": "error",
     "traceback": [
      "UndefVarError: `Eout` not defined\n",
      "\n",
      "Stacktrace:\n",
      " [1] top-level scope\n",
      "   @ \\home\\muelderk\\My Documents\\MPC\\MPC-simulation\\jl_notebook_cell_df34fa98e69747e1a8f8a730347b8e2f_W3sZmlsZQ==.jl:2"
     ]
    }
   ],
   "source": [
    "print(\"Integrating field along r...\")\n",
    "Ẽω = zeros(ComplexF64, (size(Eout, 1), size(Eout, 3)))      # set up new array for Ẽω = Ẽ(ω, z); COMPLEX electric field amplitude in FREQUENCY domain INTEGRATED along r (from 0 to infinity to my knowledge)      \n",
    "    for i = 1:size(Eout, 1), j = 1:size(Eout, 3)\n",
    "        Ẽω[i,j] = Hankel.integrateK(Eout[i,:,j], q)             # integrate along r (technically: k)\n",
    "    end\n",
    "println(\"done.\")"
   ]
  },
  {
   "cell_type": "markdown",
   "metadata": {},
   "source": [
    "Plot phase how I did before, directly by applying the angle function and then unwrap it."
   ]
  },
  {
   "cell_type": "code",
   "execution_count": 1,
   "metadata": {},
   "outputs": [
    {
     "ename": "UndefVarError",
     "evalue": "UndefVarError: `Ẽω` not defined",
     "output_type": "error",
     "traceback": [
      "UndefVarError: `Ẽω` not defined\n",
      "\n",
      "Stacktrace:\n",
      " [1] top-level scope\n",
      "   @ \\home\\muelderk\\My Documents\\MPC\\MPC-simulation\\jl_notebook_cell_df34fa98e69747e1a8f8a730347b8e2f_W4sZmlsZQ==.jl:1"
     ]
    }
   ],
   "source": [
    "Ẽω_in = Ẽω[:, end]\n",
    "\n",
    "Iω_in = abs2.(Ẽω_in)\n",
    "\n",
    "ϕω_in = -angle.(Ẽω_in)\n",
    "\n",
    "\n",
    "fig, ax1 = plt.subplots()\n",
    "    ax1.plot(ω.*1e-15, Iω_in, label=\"intensity\")\n",
    "    ax2 = ax1.twinx()\n",
    "    ax2.plot(ω.*1e-15, unwrap(ϕω_in), label=\"phase\", color=\"orange\")\n",
    "    #ax1.set_xlim(1.8 , 3)\n",
    "    #ax2.set_ylim(-50, 50)\n",
    "    ax1.set_xlabel(\"ω [PHz]\")\n",
    "    ax1.set_ylabel(\"I (arb. units)\")\n",
    "    ax2.set_ylabel(\"phase [rad]\")\n",
    "    ax1.legend(loc=\"upper left\")\n",
    "    ax2.legend(loc=\"upper right\")\n",
    "    plt.tight_layout()\n",
    "    plt.gcf()\n",
    "\n"
   ]
  },
  {
   "cell_type": "markdown",
   "metadata": {},
   "source": [
    "Now first eliminate large linear contribution by multiplying the complex electric field with an exponential factor that contains a linear phase."
   ]
  },
  {
   "cell_type": "code",
   "execution_count": 2,
   "metadata": {},
   "outputs": [
    {
     "ename": "UndefVarError",
     "evalue": "UndefVarError: `grid` not defined",
     "output_type": "error",
     "traceback": [
      "UndefVarError: `grid` not defined\n",
      "\n",
      "Stacktrace:\n",
      " [1] top-level scope\n",
      "   @ \\home\\muelderk\\My Documents\\MPC\\MPC-simulation\\jl_notebook_cell_df34fa98e69747e1a8f8a730347b8e2f_W5sZmlsZQ==.jl:1"
     ]
    }
   ],
   "source": [
    "τ = -length(grid.t)*(grid.t[2] - grid.t[1])/2\n",
    "\n",
    "Ẽω_in_shifted = Ẽω_in .* exp.(-1im.*grid.ω.*τ) # shift to -t_max before unwrapping\n",
    "Aω = abs.(Ẽω_in_shifted) # spectral amplitude\n",
    "ϕω = unwrap(-angle.(Ẽω_in_shifted)) # spectral phase\n",
    "#Ag = Maths.BSpline(oldgrid.ω, Aω).(newgrid.ω)\n",
    "ϕg = ϕω .- grid.ω*τ # shift to t=0\n",
    "#Egm[:, midx] = scale * Ag .* exp.(1im*ϕg)"
   ]
  },
  {
   "cell_type": "code",
   "execution_count": 3,
   "metadata": {},
   "outputs": [
    {
     "ename": "UndefVarError",
     "evalue": "UndefVarError: `plt` not defined",
     "output_type": "error",
     "traceback": [
      "UndefVarError: `plt` not defined\n",
      "\n",
      "Stacktrace:\n",
      " [1] top-level scope\n",
      "   @ \\home\\muelderk\\My Documents\\MPC\\MPC-simulation\\jl_notebook_cell_df34fa98e69747e1a8f8a730347b8e2f_W6sZmlsZQ==.jl:1"
     ]
    }
   ],
   "source": [
    "fig, ax1 = plt.subplots()\n",
    "    ax1.plot(ω.*1e-15, Aω, label=\"intensity\")\n",
    "    ax2 = ax1.twinx()\n",
    "    ax2.plot(ω.*1e-15, ϕg, label=\"phase\", color=\"orange\")\n",
    "    #ax1.set_xlim(1.8 , 3)\n",
    "    #ax2.set_ylim(-50, 50)\n",
    "    ax1.set_xlabel(\"ω [PHz]\")\n",
    "    ax1.set_ylabel(\"I (arb. units)\")\n",
    "    ax2.set_ylabel(\"phase [rad]\")\n",
    "    ax1.legend(loc=\"upper left\")\n",
    "    ax2.legend(loc=\"upper right\")\n",
    "    plt.tight_layout()\n",
    "    plt.gcf()"
   ]
  },
  {
   "cell_type": "code",
   "execution_count": 4,
   "metadata": {},
   "outputs": [
    {
     "data": {
      "text/plain": [
       "phase_blanking (generic function with 1 method)"
      ]
     },
     "metadata": {},
     "output_type": "display_data"
    }
   ],
   "source": [
    "function phase_blanking(x, y, ϕ; level=0.01)\n",
    "\n",
    "    val = level*maximum(y)\n",
    "    maxidx = argmax(y)\n",
    "    xmax = x[maxidx]\n",
    "\n",
    "    lefti = findlast((x .< xmax) .& (y .< val))\n",
    "    righti = findfirst((x .> xmax) .& (y .< val))\n",
    "\n",
    "    ϕ_blanked = copy(ϕ)\n",
    "    ϕ_blanked[1:lefti-1] .= NaN\n",
    "    ϕ_blanked[righti+1:end] .= NaN\n",
    "    ϕ_blanked .-= minimum(filter(!isnan, ϕ_blanked))\n",
    "\n",
    "    return (ϕ_blanked)\n",
    "end"
   ]
  },
  {
   "cell_type": "code",
   "execution_count": 5,
   "metadata": {},
   "outputs": [
    {
     "ename": "UndefVarError",
     "evalue": "UndefVarError: `ω` not defined",
     "output_type": "error",
     "traceback": [
      "UndefVarError: `ω` not defined\n",
      "\n",
      "Stacktrace:\n",
      " [1] top-level scope\n",
      "   @ \\home\\muelderk\\My Documents\\MPC\\MPC-simulation\\jl_notebook_cell_df34fa98e69747e1a8f8a730347b8e2f_X11sZmlsZQ==.jl:1"
     ]
    }
   ],
   "source": [
    "ϕ_blanked = phase_blanking(ω, Aω, ϕg; level=0.1)\n"
   ]
  },
  {
   "cell_type": "code",
   "execution_count": 6,
   "metadata": {},
   "outputs": [
    {
     "ename": "UndefVarError",
     "evalue": "UndefVarError: `plt` not defined",
     "output_type": "error",
     "traceback": [
      "UndefVarError: `plt` not defined\n",
      "\n",
      "Stacktrace:\n",
      " [1] top-level scope\n",
      "   @ \\home\\muelderk\\My Documents\\MPC\\MPC-simulation\\jl_notebook_cell_df34fa98e69747e1a8f8a730347b8e2f_X12sZmlsZQ==.jl:1"
     ]
    }
   ],
   "source": [
    "fig, ax1 = plt.subplots()\n",
    "    ax1.plot(ω.*1e-15, Aω, label=\"intensity\")\n",
    "    ax2 = ax1.twinx()\n",
    "    ax2.plot(ω.*1e-15, ϕ_blanked, label=\"phase\", color=\"orange\")\n",
    "    #ax1.set_xlim(1.8 , 3)\n",
    "    #ax2.set_ylim(-50, 50)\n",
    "    ax1.set_xlabel(\"ω [PHz]\")\n",
    "    ax1.set_ylabel(\"I (arb. units)\")\n",
    "    ax2.set_ylabel(\"phase [rad]\")\n",
    "    ax1.legend(loc=\"upper left\")\n",
    "    ax2.legend(loc=\"upper right\")\n",
    "    plt.tight_layout()\n",
    "    plt.gcf()"
   ]
  },
  {
   "cell_type": "markdown",
   "metadata": {},
   "source": [
    "Phase blanking for 2d array"
   ]
  },
  {
   "cell_type": "code",
   "execution_count": 7,
   "metadata": {},
   "outputs": [
    {
     "ename": "UndefVarError",
     "evalue": "UndefVarError: `grid` not defined",
     "output_type": "error",
     "traceback": [
      "UndefVarError: `grid` not defined\n",
      "\n",
      "Stacktrace:\n",
      " [1] top-level scope\n",
      "   @ \\home\\muelderk\\My Documents\\MPC\\MPC-simulation\\jl_notebook_cell_df34fa98e69747e1a8f8a730347b8e2f_X14sZmlsZQ==.jl:1"
     ]
    }
   ],
   "source": [
    "τ = -length(grid.t)*(grid.t[2] - grid.t[1])/2\n",
    "\n",
    "Ẽω_tot_shifted = Ẽω .* exp.(-1im.*grid.ω.*τ) # shift to -t_max before unwrapping\n",
    "Aω_tot = abs.(Ẽω_tot_shifted) # spectral amplitude\n",
    "ϕω_tot = unwrap(-angle.(Ẽω_tot_shifted), dims=1) # spectral phase\n",
    "\n"
   ]
  },
  {
   "cell_type": "code",
   "execution_count": 8,
   "metadata": {},
   "outputs": [
    {
     "ename": "UndefVarError",
     "evalue": "UndefVarError: `plt` not defined",
     "output_type": "error",
     "traceback": [
      "UndefVarError: `plt` not defined\n",
      "\n",
      "Stacktrace:\n",
      " [1] top-level scope\n",
      "   @ \\home\\muelderk\\My Documents\\MPC\\MPC-simulation\\jl_notebook_cell_df34fa98e69747e1a8f8a730347b8e2f_X15sZmlsZQ==.jl:1"
     ]
    }
   ],
   "source": [
    "fig, ax1 = plt.subplots()\n",
    "    ax1.plot(ω.*1e-15, Aω_tot[:, end], label=\"intensity\")\n",
    "    ax2 = ax1.twinx()\n",
    "    ax2.plot(ω.*1e-15, ϕω_tot[:, end], label=\"phase\", color=\"orange\")\n",
    "    #ax1.set_xlim(1.8 , 3)\n",
    "    #ax2.set_ylim(-50, 50)\n",
    "    ax1.set_xlabel(\"ω [PHz]\")\n",
    "    ax1.set_ylabel(\"I (arb. units)\")\n",
    "    ax2.set_ylabel(\"phase [rad]\")\n",
    "    ax1.legend(loc=\"upper left\")\n",
    "    ax2.legend(loc=\"upper right\")\n",
    "    plt.tight_layout()\n",
    "    plt.gcf()"
   ]
  },
  {
   "cell_type": "code",
   "execution_count": 9,
   "metadata": {},
   "outputs": [
    {
     "data": {
      "text/plain": [
       "blank_phase (generic function with 1 method)"
      ]
     },
     "metadata": {},
     "output_type": "display_data"
    }
   ],
   "source": [
    "function blank_phase(x, I, ϕ; level=0.1)\n",
    "    \n",
    "    # works for 1D and 2D I, ϕ arrays\n",
    "    \n",
    "    if size(I) != size(ϕ)\n",
    "        error(\"Error: I and ϕ have to be of the same size.\")\n",
    "    end\n",
    "    \n",
    "    num_col = size(I, 2)  # Number of columns in I and ϕ\n",
    "    ϕ_blanked = similar(ϕ)  # Allocate array to store results\n",
    "\n",
    "    # Iterate over each column in I\n",
    "    for i in 1:num_col\n",
    "        I_col = I[:, i]\n",
    "        ϕ_col = ϕ[:, i]\n",
    "\n",
    "        val = level * maximum(I_col)    # threshold intensity\n",
    "        maxidx = argmax(I_col)\n",
    "        xmax = x[maxidx]                # frequency/time of threshold intensity\n",
    "\n",
    "        # find left and right indices between which intensity is above\n",
    "        # lefti = findlast((x .< xmax) .& (I_col .< val))\n",
    "        # righti = findfirst((x .> xmax) .& (I_col .< val))\n",
    "\n",
    "        lefti = findfirst((x .< xmax) .& (I_col .> val))\n",
    "        righti = findlast((x .> xmax) .& (I_col .> val))\n",
    "\n",
    "        ϕ_blanked_col = copy(ϕ_col)\n",
    "        \n",
    "        if !isnothing(lefti)\n",
    "            ϕ_blanked_col[1:lefti-1] .= NaN\n",
    "        end\n",
    "        if !isnothing(righti)\n",
    "            ϕ_blanked_col[righti+1:end] .= NaN\n",
    "        end\n",
    "\n",
    "        # shift phase values to zero (convinient for comparing the phase graphs)\n",
    "        ϕ_blanked_col .-= minimum(filter(!isnan, ϕ_blanked_col))\n",
    "\n",
    "        ϕ_blanked[:, i] = ϕ_blanked_col\n",
    "    end\n",
    "    \n",
    "    return ϕ_blanked\n",
    "end"
   ]
  },
  {
   "cell_type": "code",
   "execution_count": 10,
   "metadata": {},
   "outputs": [
    {
     "ename": "UndefVarError",
     "evalue": "UndefVarError: `ω` not defined",
     "output_type": "error",
     "traceback": [
      "UndefVarError: `ω` not defined\n",
      "\n",
      "Stacktrace:\n",
      " [1] top-level scope\n",
      "   @ \\home\\muelderk\\My Documents\\MPC\\MPC-simulation\\jl_notebook_cell_df34fa98e69747e1a8f8a730347b8e2f_X20sZmlsZQ==.jl:1"
     ]
    }
   ],
   "source": [
    "ϕ_tot_blanked = blank_phase(ω, Aω_tot[:,1], ϕω_tot[:,1])#; level=0.1)\n",
    "\n",
    "println(ϕ_tot_blanked[:,end])"
   ]
  },
  {
   "cell_type": "code",
   "execution_count": 11,
   "metadata": {},
   "outputs": [
    {
     "ename": "UndefVarError",
     "evalue": "UndefVarError: `plt` not defined",
     "output_type": "error",
     "traceback": [
      "UndefVarError: `plt` not defined\n",
      "\n",
      "Stacktrace:\n",
      " [1] top-level scope\n",
      "   @ \\home\\muelderk\\My Documents\\MPC\\MPC-simulation\\jl_notebook_cell_df34fa98e69747e1a8f8a730347b8e2f_X21sZmlsZQ==.jl:1"
     ]
    }
   ],
   "source": [
    "fig, ax1 = plt.subplots()\n",
    "    ax1.plot(ω.*1e-15, Aω_tot[:,1], label=\"intensity\", marker=\"o\")\n",
    "    ax1.axhline(0.1*maximum(Aω_tot[:,1]), color=\"grey\", linestyle=\"dashed\")\n",
    "    ax2 = ax1.twinx()\n",
    "    ax2.plot(ω.*1e-15, ϕ_tot_blanked[:,1], label=\"phase\", color=\"orange\")\n",
    "    #ax1.set_xlim(1.8 , 3)\n",
    "    #ax2.set_ylim(-50, 50)\n",
    "    ax1.set_xlabel(\"ω [PHz]\")\n",
    "    ax1.set_ylabel(\"I (arb. units)\")\n",
    "    ax2.set_ylabel(\"phase [rad]\")\n",
    "    ax1.legend(loc=\"upper left\")\n",
    "    ax2.legend(loc=\"upper right\")\n",
    "    plt.tight_layout()\n",
    "    plt.gcf()\n",
    "    # plt.show()"
   ]
  },
  {
   "cell_type": "code",
   "execution_count": 13,
   "metadata": {},
   "outputs": [
    {
     "ename": "UndefVarError",
     "evalue": "UndefVarError: `grid` not defined",
     "output_type": "error",
     "traceback": [
      "UndefVarError: `grid` not defined\n",
      "\n",
      "Stacktrace:\n",
      " [1] top-level scope\n",
      "   @ \\home\\muelderk\\My Documents\\MPC\\MPC-simulation\\jl_notebook_cell_df34fa98e69747e1a8f8a730347b8e2f_X23sZmlsZQ==.jl:1"
     ]
    }
   ],
   "source": [
    "τ = -length(grid.t)*(grid.t[2] - grid.t[1])/2\n",
    "\n",
    "Erout_shifted = Erout .* exp.(-1im.*grid.ω.*τ) # shift to -t_max before unwrapping\n",
    "Aωr = abs.(Erout_shifted) # spectral amplitude\n",
    "ϕωr = unwrap(-angle.(Erout_shifted), dims=1) # spectral phase"
   ]
  },
  {
   "cell_type": "code",
   "execution_count": 14,
   "metadata": {},
   "outputs": [
    {
     "ename": "UndefVarError",
     "evalue": "UndefVarError: `phase_blanking2D` not defined",
     "output_type": "error",
     "traceback": [
      "UndefVarError: `phase_blanking2D` not defined\n",
      "\n",
      "Stacktrace:\n",
      " [1] top-level scope\n",
      "   @ \\home\\muelderk\\My Documents\\MPC\\MPC-simulation\\jl_notebook_cell_df34fa98e69747e1a8f8a730347b8e2f_X24sZmlsZQ==.jl:1"
     ]
    }
   ],
   "source": [
    "ϕωr_blanked = phase_blanking2D(ω, Aωr, ϕωr; level=0.1)\n"
   ]
  }
 ],
 "metadata": {
  "kernelspec": {
   "display_name": "Julia 1.10.3",
   "language": "julia",
   "name": "julia-1.10"
  },
  "language_info": {
   "file_extension": ".jl",
   "mimetype": "application/julia",
   "name": "julia",
   "version": "1.10.3"
  }
 },
 "nbformat": 4,
 "nbformat_minor": 2
}
