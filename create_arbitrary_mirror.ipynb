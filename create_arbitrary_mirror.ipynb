{
 "cells": [
  {
   "cell_type": "code",
   "execution_count": 2,
   "metadata": {},
   "outputs": [
    {
     "data": {
      "text/plain": [
       "true"
      ]
     },
     "metadata": {},
     "output_type": "display_data"
    }
   ],
   "source": [
    "using DelimitedFiles\n",
    "\n",
    "using PyPlot\n",
    "pygui(true)"
   ]
  },
  {
   "cell_type": "code",
   "execution_count": 4,
   "metadata": {},
   "outputs": [
    {
     "name": "stdout",
     "output_type": "stream",
     "text": [
      "Conversion completed. Check the 'tangerine_FROG_50kHz\\Ek.dat' file for results.\n"
     ]
    }
   ],
   "source": [
    "# Julia script to change comma decimal sign to dot\n",
    "\n",
    "# Function to convert comma decimal to dot\n",
    "function convert_commas(input_file::String, output_file::String)\n",
    "    # Read the input file\n",
    "    content = read(input_file, String)\n",
    "\n",
    "    # Replace ',' with '.'\n",
    "    converted_content = replace(content, ',' => '.')\n",
    "\n",
    "    # Write the converted data to the output file\n",
    "    write(output_file, converted_content)\n",
    "\n",
    "    println(\"Conversion completed. Check the '$output_file' file for results.\")\n",
    "end\n",
    "\n",
    "# Define your input and output files\n",
    "dir = \"tangerine_FROG_50kHz\"\n",
    "input_file = \"Ek.dat\"  # Your input file name\n",
    "output_file = \"Ek.dat\"  # Desired output file name\n",
    "\n",
    "# Call the function to perform the conversion\n",
    "convert_commas(joinpath(dir,input_file), joinpath(dir,output_file))"
   ]
  },
  {
   "cell_type": "markdown",
   "metadata": {},
   "source": [
    "MIRRORS"
   ]
  },
  {
   "cell_type": "code",
   "execution_count": 35,
   "metadata": {},
   "outputs": [
    {
     "data": {
      "text/plain": [
       "251-element Vector{Float64}:\n",
       "    274.602\n",
       "    440.228\n",
       "    633.096\n",
       "    675.624\n",
       "    288.78\n",
       "   -409.266\n",
       "   -796.979\n",
       "   -692.267\n",
       "   -414.619\n",
       "   -191.07\n",
       "      ⋮\n",
       "  -1582.87\n",
       "  -1927.75\n",
       "  -2446.49\n",
       "  -3360.49\n",
       "  -5263.92\n",
       "  -9981.52\n",
       " -24309.7\n",
       " -76885.0\n",
       " -98453.1"
      ]
     },
     "metadata": {},
     "output_type": "display_data"
    }
   ],
   "source": [
    "path_m1 = joinpath(\"input\", \"mirrordata_0fs2.txt\")\n",
    "\n",
    "data = readdlm(path_m1, skipstart=1)\n",
    "\n",
    "λ_m1 = data[:,1]     # read in wavelengths [nm]\n",
    "R_m1 = data[:,2]     # read in reflectivity [%]\n",
    "GDD_m1 = data[:,3]  # read in GDD [fs2]\n",
    "\n",
    "\n",
    "\n",
    "\n",
    "path_m2 = joinpath(\"input\", \"mirrordata_-30fs2.txt\")\n",
    "\n",
    "data = readdlm(path_m2, skipstart=1)\n",
    "\n",
    "λ_m2 = data[:,1]     # read in wavelengths [nm]\n",
    "R_m2 = data[:,2]     # read in reflectivity [%]\n",
    "GDD_m2 = data[:,3]  # read in GDD [fs2]"
   ]
  },
  {
   "cell_type": "code",
   "execution_count": 36,
   "metadata": {},
   "outputs": [],
   "source": [
    "fig, ax1 = plt.subplots()\n",
    "ax1.set_title(\"Low GDD mirror from data\")\n",
    "ax1.plot(λ_m1, R_m1, label=\"reflectivity\")\n",
    "ax2 = ax1.twinx()\n",
    "ax2.plot(λ_m1, GDD_m1, label=\"GDD\", color=\"orange\")\n",
    "ax1.set_ylim(-5, 105)\n",
    "ax2.set_ylim(-50, 50)\n",
    "ax1.set_xlabel(\"λ [nm]\")\n",
    "ax1.set_ylabel(\"reflectivity [%]\")\n",
    "ax2.set_ylabel(\"GDD [fs2]\")\n",
    "ax1.legend(loc=\"upper left\")\n",
    "ax2.legend(loc=\"upper right\")\n",
    "plt.tight_layout()\n",
    "\n",
    "fig, ax1 = plt.subplots()\n",
    "ax1.set_title(\"High GDD mirror from data\")\n",
    "ax1.plot(λ_m2, R_m2, label=\"reflectivity [%]\")\n",
    "ax2 = ax1.twinx()\n",
    "ax2.plot(λ_m2, GDD_m2, label=\"GDD\", color=\"orange\")\n",
    "ax1.set_ylim(-5, 105)\n",
    "ax2.set_ylim(-50, 50)\n",
    "ax1.set_xlabel(\"λ [nm]\")\n",
    "ax1.set_ylabel(\"reflectivity\")\n",
    "ax2.set_ylabel(\"GDD [fs2]\")\n",
    "ax1.legend(loc=\"upper left\")\n",
    "ax2.legend(loc=\"upper right\")\n",
    "plt.tight_layout()\n",
    "\n",
    "plt.show()"
   ]
  },
  {
   "cell_type": "markdown",
   "metadata": {},
   "source": [
    "MIRROR with 100% reflectivity and constant 0 GDD"
   ]
  },
  {
   "cell_type": "code",
   "execution_count": 37,
   "metadata": {},
   "outputs": [
    {
     "data": {
      "text/plain": [
       "501-element Vector{Float64}:\n",
       " -30.0\n",
       " -30.0\n",
       " -30.0\n",
       " -30.0\n",
       " -30.0\n",
       " -30.0\n",
       " -30.0\n",
       " -30.0\n",
       " -30.0\n",
       " -30.0\n",
       "   ⋮\n",
       " -30.0\n",
       " -30.0\n",
       " -30.0\n",
       " -30.0\n",
       " -30.0\n",
       " -30.0\n",
       " -30.0\n",
       " -30.0\n",
       " -30.0"
      ]
     },
     "metadata": {},
     "output_type": "display_data"
    }
   ],
   "source": [
    "λ_r100_0fs2 = collect(800.0 : 1300.0)\n",
    "R_100_0fs2 = fill(100.0, length(λ_r100_0fs2))\n",
    "GDD_0fs2 = zeros(length(λ_r100_0fs2))\n",
    "\n",
    "\n",
    "λ_r100_neg_30fs2 = collect(800.0 : 1300.0)\n",
    "R_100_neg_30fs2 = fill(100.0, length(λ_r100_neg_30fs2))\n",
    "GDD_neg_30fs2 = fill(-30.0, length(λ_r100_neg_30fs2))"
   ]
  },
  {
   "cell_type": "code",
   "execution_count": 38,
   "metadata": {},
   "outputs": [],
   "source": [
    "fig, ax1 = plt.subplots()\n",
    "ax1.set_title(\"mirror with R = 100% and GDD = 0 fs2\")\n",
    "ax1.plot(λ_r100_0fs2, R_100_0fs2, label=\"reflectivity\")\n",
    "ax2 = ax1.twinx()\n",
    "ax2.plot(λ_r100_0fs2, GDD_0fs2, linestyle=\"--\", label=\"GDD\", color=\"orange\")\n",
    "ax1.set_ylim(-5, 105)\n",
    "ax2.set_ylim(-50, 50)\n",
    "ax1.set_xlabel(\"λ [nm]\")\n",
    "ax1.set_ylabel(\"reflectivity [%]\")\n",
    "ax2.set_ylabel(\"GDD [fs2]\")\n",
    "ax1.legend(loc=\"upper left\")\n",
    "ax2.legend(loc=\"upper right\")\n",
    "plt.tight_layout()\n",
    "\n",
    "fig, ax1 = plt.subplots()\n",
    "ax1.set_title(\"mirror with R = 100% and GDD = -30 fs2\")\n",
    "ax1.plot(λ_r100_neg_30fs2, R_100_neg_30fs2, label=\"reflectivity\")\n",
    "ax2 = ax1.twinx()\n",
    "ax2.plot(λ_r100_neg_30fs2, GDD_neg_30fs2, linestyle=\"--\", label=\"GDD\", color=\"orange\")\n",
    "ax1.set_ylim(-5, 105)\n",
    "ax2.set_ylim(-50, 50)\n",
    "ax1.set_xlabel(\"λ [nm]\")\n",
    "ax1.set_ylabel(\"reflectivity [%]\")\n",
    "ax2.set_ylabel(\"GDD [fs2]\")\n",
    "ax1.legend(loc=\"upper left\")\n",
    "ax2.legend(loc=\"upper right\")\n",
    "plt.tight_layout()\n",
    "\n",
    "plt.show()"
   ]
  },
  {
   "cell_type": "markdown",
   "metadata": {},
   "source": [
    "MIRRORS WITH REFLECTIVITY TAKEN FROM DATA BUT GDD SET CONSTANT TO 0 / -30 fs2 RESPECTIVELY"
   ]
  },
  {
   "cell_type": "code",
   "execution_count": 41,
   "metadata": {},
   "outputs": [
    {
     "data": {
      "text/plain": [
       "251-element Vector{Float64}:\n",
       " -30.0\n",
       " -30.0\n",
       " -30.0\n",
       " -30.0\n",
       " -30.0\n",
       " -30.0\n",
       " -30.0\n",
       " -30.0\n",
       " -30.0\n",
       " -30.0\n",
       "   ⋮\n",
       " -30.0\n",
       " -30.0\n",
       " -30.0\n",
       " -30.0\n",
       " -30.0\n",
       " -30.0\n",
       " -30.0\n",
       " -30.0\n",
       " -30.0"
      ]
     },
     "metadata": {},
     "output_type": "display_data"
    }
   ],
   "source": [
    "λ_R_data_0fs2 = λ_m1\n",
    "R_data_0fs2 = R_m1\n",
    "GDD_R_data_0fs2 = zeros(length(λ_R_data_0fs2))\n",
    "\n",
    "\n",
    "λ_R_data_neg_30fs2 = λ_m2\n",
    "R_data_neg_30fs2 = R_m2\n",
    "GDD_R_data_neg_30fs2 = fill(-30.0, length(λ_R_data_neg_30fs2))"
   ]
  },
  {
   "cell_type": "code",
   "execution_count": 48,
   "metadata": {},
   "outputs": [],
   "source": [
    "fig, ax1 = plt.subplots()\n",
    "ax1.set_title(\"mirror with R taken from data and GDD = 0 fs2\")\n",
    "ax1.plot(λ_Rdata_0fs2, R_data_0fs2, label=\"reflectivity\")\n",
    "ax2 = ax1.twinx()\n",
    "ax2.plot(λ_Rdata_0fs2, GDD_R_data_0fs2, linestyle=\"--\", label=\"GDD\", color=\"orange\")\n",
    "ax1.set_ylim(-5, 105)\n",
    "ax2.set_ylim(-50, 50)\n",
    "ax1.set_xlabel(\"λ [nm]\")\n",
    "ax1.set_ylabel(\"reflectivity [%]\")\n",
    "ax2.set_ylabel(\"GDD [fs2]\")\n",
    "ax1.legend(loc=\"upper left\")\n",
    "ax2.legend(loc=\"upper right\")\n",
    "plt.tight_layout()\n",
    "\n",
    "fig, ax1 = plt.subplots()\n",
    "ax1.set_title(\"mirror with R taken from data and GDD = -30 fs2\")\n",
    "ax1.plot(λ_R_data_neg_30fs2, R_data_neg_30fs2, label=\"reflectivity\")\n",
    "ax2 = ax1.twinx()\n",
    "ax2.plot(λ_R_data_neg_30fs2, GDD_R_data_neg_30fs2, linestyle=\"--\", label=\"GDD\", color=\"orange\")\n",
    "ax1.set_ylim(-5, 105)\n",
    "ax2.set_ylim(-50, 50)\n",
    "ax1.set_xlabel(\"λ [nm]\")\n",
    "ax1.set_ylabel(\"reflectivity [%]\")\n",
    "ax2.set_ylabel(\"GDD [fs2]\")\n",
    "ax1.legend(loc=\"upper left\")\n",
    "ax2.legend(loc=\"upper right\")\n",
    "plt.tight_layout()\n",
    "\n",
    "plt.show()"
   ]
  },
  {
   "cell_type": "code",
   "execution_count": null,
   "metadata": {},
   "outputs": [],
   "source": [
    "λ_R_data_neg_30fs2 = λ_m2\n",
    "R_data_neg_30fs2 = R_m2\n",
    "GDD_R_data_neg_30fs2 = fill(-30.0, length(λ_R_data_neg_30fs2))"
   ]
  },
  {
   "cell_type": "markdown",
   "metadata": {},
   "source": [
    "WRITING NEW TXT FILES FOR MIRRORS"
   ]
  },
  {
   "cell_type": "code",
   "execution_count": 43,
   "metadata": {},
   "outputs": [
    {
     "data": {
      "text/plain": [
       "write_data_to_file (generic function with 1 method)"
      ]
     },
     "metadata": {},
     "output_type": "display_data"
    }
   ],
   "source": [
    "# input units to work with MPC simulation script: [nm], [%], [fs2]\n",
    "\n",
    "function write_data_to_file(filename, wavelength, reflectivity, GDD)\n",
    "    # Open the file for writing\n",
    "    open(filename, \"w\") do io\n",
    "        # Write the header with tabs\n",
    "        println(io, \"m_wavelength\\tm_R\\tm_GDD\")\n",
    "\n",
    "        # Use writedlm with zip to write the data\n",
    "        writedlm(io, zip(wavelength, reflectivity, GDD), '\\t')#, fmt = \"%.6f\")\n",
    "    end\n",
    "end"
   ]
  },
  {
   "cell_type": "code",
   "execution_count": null,
   "metadata": {},
   "outputs": [],
   "source": [
    "filename = joinpath(\"input\", \"mirror_R_100_GDD_0fs2.txt\")\n",
    "write_data_to_file(filename, λ_r100_0fs2, R_100_0fs2, GDD_0fs2)\n",
    "\n",
    "filename = joinpath(\"input\", \"mirror_R_100_GDD_-30fs2.txt\")\n",
    "write_data_to_file(filename, λ_r100_neg_30fs2, R_100_neg_30fs2, GDD_neg_30fs2)\n",
    "\n",
    "# filename = joinpath(\"input\", \"mirror_R_data_GDD_0fs2.txt\")\n",
    "# write_data_to_file(filename, λ_R_data_0fs2, R_data_0fs2, GDD_R_data_0fs2)\n",
    "\n",
    "# filename = joinpath(\"input\", \"mirror_R_data_GDD_-30fs2.txt\")\n",
    "# write_data_to_file(filename, λ_R_data_neg_30fs2, R_data_neg_30fs2, GDD_R_data_neg_30fs2)"
   ]
  }
 ],
 "metadata": {
  "kernelspec": {
   "display_name": "Julia 1.10.3",
   "language": "julia",
   "name": "julia-1.10"
  },
  "language_info": {
   "file_extension": ".jl",
   "mimetype": "application/julia",
   "name": "julia",
   "version": "1.10.3"
  }
 },
 "nbformat": 4,
 "nbformat_minor": 2
}
